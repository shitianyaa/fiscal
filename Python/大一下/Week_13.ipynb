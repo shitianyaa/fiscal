{
 "cells": [
  {
   "cell_type": "code",
   "execution_count": 8,
   "id": "cdd37450-a699-4d64-a196-dda12285f620",
   "metadata": {},
   "outputs": [
    {
     "name": "stdout",
     "output_type": "stream",
     "text": [
      "she says\"asdfg\"\n",
      "\n",
      "123xx,\n",
      "456cc.\n",
      "\n"
     ]
    }
   ],
   "source": [
    "print('she says\"asdfg\"') ##单双引号差不多\n",
    "##三引号\n",
    "a=\"\"\"\n",
    "123xx,\n",
    "456cc.\n",
    "\"\"\"\n",
    "print(a)"
   ]
  },
  {
   "cell_type": "code",
   "execution_count": 18,
   "id": "c5597d0f-cdde-405f-aff6-554ac92a6b2f",
   "metadata": {},
   "outputs": [
    {
     "name": "stdout",
     "output_type": "stream",
     "text": [
      "2    +  1=#####3.00#####\n"
     ]
    }
   ],
   "source": [
    "##字符串格式化{}是占位符\n",
    "x,y = 1,2\n",
    "a=\"{1:<5d}+{0:>3}={2:#^14.2f}\".format(x,y,x+y)##第一个是位置.<>^向左向右对其.14位保留两位小数.d整数.f浮点数.s字符串\n",
    "print(a)"
   ]
  },
  {
   "cell_type": "code",
   "execution_count": 18,
   "id": "bab4bc32-16ce-4fe1-a513-efea12f43c9a",
   "metadata": {},
   "outputs": [
    {
     "name": "stdout",
     "output_type": "stream",
     "text": [
      "7    +  6=####13.00#####\n"
     ]
    }
   ],
   "source": [
    "##{x:<5d}：将 x 格式化为左对齐（<）的整数（d），宽度为 5。\n",
    "##{y:>3}：将 y 格式化为右对齐（>）的整数，宽度为 3。\n",
    "##{x+y:#^14.2f}：将 x+y 的结果格式化为居中对齐（^）的浮点数（f），宽度为 14，小数点后保留 2 位，并用 # 填充空白处。\n",
    "x,y=6,7\n",
    "a=f\"{y:<5d}+{x:>3}={x+y:#^14.2f}\"\n",
    "print(a)"
   ]
  },
  {
   "cell_type": "code",
   "execution_count": 24,
   "id": "9e73e2eb-8881-4ea5-a41c-71e7037a4306",
   "metadata": {},
   "outputs": [
    {
     "name": "stdout",
     "output_type": "stream",
     "text": [
      "b'\\xb4\\xd4\\xd3\\xea\\xcc\\xec\\xcf\\xc2\\xb5\\xda\\xd2\\xbb'\n",
      "丛雨天下第一\n"
     ]
    }
   ],
   "source": [
    "text=\"丛雨天下第一\"\n",
    "text_1=text.encode(\"gbk\")\n",
    "print(text_1)\n",
    "a=b'\\xb4\\xd4\\xd3\\xea\\xcc\\xec\\xcf\\xc2\\xb5\\xda\\xd2\\xbb'\n",
    "print(a.decode(\"gbk\"))"
   ]
  },
  {
   "cell_type": "code",
   "execution_count": 50,
   "id": "1724c663-56fd-4a23-bfda-9f137a952f91",
   "metadata": {},
   "outputs": [
    {
     "name": "stdout",
     "output_type": "stream",
     "text": [
      "子串 'ac' 的所有位置：[0, 4, 11, 13]\n"
     ]
    }
   ],
   "source": [
    "##print(\"abkcabcscebwuw\".find(\"a\"))#index找不到返回异常.find返回-1.从零开始\n",
    "##找多个重复\n",
    "a = \"acbuacdfdfdacac\"\n",
    "target = \"ac\"\n",
    "positions = []\n",
    "\n",
    "start = 0\n",
    "while True:\n",
    "    index = a.find(target, start)\n",
    "    if index == -1:\n",
    "        break\n",
    "    positions.append(index)\n",
    "    start = index + 1  # 移动到已找到位置的下一个字符继续搜索\n",
    "\n",
    "print(f\"子串 '{target}' 的所有位置：{positions}\")\n",
    "# 输出：子串 'ac' 的所有位置：[0, 4, 10, 12]\n",
    "       \n",
    "        \n"
   ]
  },
  {
   "cell_type": "code",
   "execution_count": 56,
   "id": "8009c679-4e8e-4e37-b859-58a80a5186b3",
   "metadata": {},
   "outputs": [
    {
     "name": "stdout",
     "output_type": "stream",
     "text": [
      "sham1k0\n"
     ]
    }
   ],
   "source": [
    "#replace\n",
    "print(\"shamiko\".replace(\"i\",\"1\").replace(\"o\",\"0\"))"
   ]
  },
  {
   "cell_type": "code",
   "execution_count": 72,
   "id": "8668fafa-6b1a-4313-b309-0080870be5d2",
   "metadata": {},
   "outputs": [
    {
     "name": "stdout",
     "output_type": "stream",
     "text": [
      "  *  \n",
      " *** \n",
      "*****\n"
     ]
    }
   ],
   "source": [
    "for i in range(1,6,2):\n",
    "    #print((\"*\"*i).center(5))\n",
    "    print(f\"{\"*\"*i: ^5}\")"
   ]
  },
  {
   "cell_type": "code",
   "execution_count": 100,
   "id": "ab52ada8-db05-4938-87b1-1a945f4f0eea",
   "metadata": {},
   "outputs": [
    {
     "name": "stdout",
     "output_type": "stream",
     "text": [
      "153\n",
      "[12, 12, 56, 28, 45]\n",
      "153\n"
     ]
    }
   ],
   "source": [
    "a=\"a6dta68a.t,d/23\"\n",
    "b=list(a)\n",
    "f=0\n",
    "e=[]\n",
    "for i in b:\n",
    "    if i.isdigit():\n",
    "        c=b.index(i)+1\n",
    "        d=int(i)\n",
    "        f+=c*d\n",
    "        e.append(c*d)\n",
    "print(f)\n",
    "print(e)\n",
    "print(12+ 12+ 56+ 28+ 45)\n",
    "    \n"
   ]
  },
  {
   "cell_type": "code",
   "execution_count": 126,
   "id": "234f84b4-539c-4306-9c7e-5b4162c48509",
   "metadata": {},
   "outputs": [
    {
     "name": "stdin",
     "output_type": "stream",
     "text": [
      "请输入身份证号码： 41042320061106029X\n"
     ]
    },
    {
     "ename": "ValueError",
     "evalue": "invalid literal for int() with base 10: 'X'",
     "output_type": "error",
     "traceback": [
      "\u001b[1;31m---------------------------------------------------------------------------\u001b[0m",
      "\u001b[1;31mValueError\u001b[0m                                Traceback (most recent call last)",
      "Cell \u001b[1;32mIn[126], line 14\u001b[0m\n\u001b[0;32m     12\u001b[0m         \u001b[38;5;28;01mreturn\u001b[39;00m \u001b[38;5;28;01mFalse\u001b[39;00m\n\u001b[0;32m     13\u001b[0m a\u001b[38;5;241m=\u001b[39m\u001b[38;5;28minput\u001b[39m(\u001b[38;5;124m\"\u001b[39m\u001b[38;5;124m请输入身份证号码：\u001b[39m\u001b[38;5;124m\"\u001b[39m)\n\u001b[1;32m---> 14\u001b[0m checkID(a)\n",
      "Cell \u001b[1;32mIn[126], line 5\u001b[0m, in \u001b[0;36mcheckID\u001b[1;34m(a)\u001b[0m\n\u001b[0;32m      3\u001b[0m d\u001b[38;5;241m=\u001b[39m\u001b[38;5;241m0\u001b[39m\n\u001b[0;32m      4\u001b[0m \u001b[38;5;28;01mfor\u001b[39;00m i,c \u001b[38;5;129;01min\u001b[39;00m \u001b[38;5;28menumerate\u001b[39m(a):\n\u001b[1;32m----> 5\u001b[0m     d\u001b[38;5;241m+\u001b[39m\u001b[38;5;241m=\u001b[39m\u001b[38;5;28mint\u001b[39m(c)\u001b[38;5;241m*\u001b[39m(\u001b[38;5;241m2\u001b[39m\u001b[38;5;241m*\u001b[39m\u001b[38;5;241m*\u001b[39m(\u001b[38;5;241m17\u001b[39m\u001b[38;5;241m-\u001b[39mi))\n\u001b[0;32m      6\u001b[0m f\u001b[38;5;241m=\u001b[39m(\u001b[38;5;241m12\u001b[39m\u001b[38;5;241m-\u001b[39md\u001b[38;5;241m%\u001b[39m\u001b[38;5;241m11\u001b[39m)\u001b[38;5;241m%\u001b[39m\u001b[38;5;241m11\u001b[39m\n\u001b[0;32m      7\u001b[0m \u001b[38;5;28;01mif\u001b[39;00m (f\u001b[38;5;241m==\u001b[39m\u001b[38;5;241m10\u001b[39m \u001b[38;5;129;01mand\u001b[39;00m a[\u001b[38;5;241m17\u001b[39m]\u001b[38;5;241m==\u001b[39m\u001b[38;5;124m\"\u001b[39m\u001b[38;5;124mX\u001b[39m\u001b[38;5;124m\"\u001b[39m):\n",
      "\u001b[1;31mValueError\u001b[0m: invalid literal for int() with base 10: 'X'"
     ]
    }
   ],
   "source": [
    "##(12-加权和%11)%11.10=\"x\"\n",
    "def checkID(a):\n",
    "    d=0\n",
    "    for i,c in enumerate(a):\n",
    "        d+=int(c)*(2**(17-i))\n",
    "    f=(12-d%11)%11\n",
    "    if (f==10 and a[17]==\"X\"):\n",
    "        return True\n",
    "    elif str(f)==a[17]:\n",
    "        return True\n",
    "    else:\n",
    "        return False\n",
    "a=input(\"请输入身份证号码：\")\n",
    "checkID(a)\n",
    "            \n",
    "            \n",
    "        "
   ]
  }
 ],
 "metadata": {
  "kernelspec": {
   "display_name": "Python [conda env:base] *",
   "language": "python",
   "name": "conda-base-py"
  },
  "language_info": {
   "codemirror_mode": {
    "name": "ipython",
    "version": 3
   },
   "file_extension": ".py",
   "mimetype": "text/x-python",
   "name": "python",
   "nbconvert_exporter": "python",
   "pygments_lexer": "ipython3",
   "version": "3.12.7"
  }
 },
 "nbformat": 4,
 "nbformat_minor": 5
}
