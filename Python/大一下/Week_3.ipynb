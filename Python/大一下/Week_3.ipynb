{
 "cells": [
  {
   "cell_type": "code",
   "execution_count": 2,
   "id": "8d8850f6-b04f-40b2-95a4-ff7d7a3b0ae4",
   "metadata": {},
   "outputs": [
    {
     "name": "stdin",
     "output_type": "stream",
     "text": [
      "请输入姓名： 111\n"
     ]
    },
    {
     "name": "stdout",
     "output_type": "stream",
     "text": [
      "你好，111！\n"
     ]
    }
   ],
   "source": [
    "name = input(\"请输入姓名：\")\n",
    "print(f\"你好，{name}！\")"
   ]
  },
  {
   "cell_type": "code",
   "execution_count": 27,
   "id": "17dc7af6-3411-4099-83f8-fe7ad68f13f2",
   "metadata": {},
   "outputs": [
    {
     "name": "stdin",
     "output_type": "stream",
     "text": [
      "请输入姓名： 33\n"
     ]
    },
    {
     "name": "stdout",
     "output_type": "stream",
     "text": [
      "你好33\n"
     ]
    }
   ],
   "source": [
    "name = input(\"请输入姓名：\")\n",
    "print(f\"你好{name}\")"
   ]
  },
  {
   "cell_type": "code",
   "execution_count": 29,
   "id": "caf78a59-a48d-4399-a9a6-3689e21b8453",
   "metadata": {},
   "outputs": [
    {
     "name": "stdin",
     "output_type": "stream",
     "text": [
      "请输入第一个数字： 1\n",
      "请输入第二个数字： 1\n"
     ]
    },
    {
     "name": "stdout",
     "output_type": "stream",
     "text": [
      "两数之和为：2.0\n"
     ]
    }
   ],
   "source": [
    "a = input(\"请输入第一个数字：\")\n",
    "a = float(a)\n",
    "b=input(\"请输入第二个数字：\")\n",
    "b = float(b)\n",
    "c=a+b\n",
    "print(f\"两数之和为：{c}\")\n"
   ]
  },
  {
   "cell_type": "code",
   "execution_count": 37,
   "id": "37bb7b11-09f4-4a27-8bcc-daa3efe2d1c4",
   "metadata": {},
   "outputs": [
    {
     "name": "stdin",
     "output_type": "stream",
     "text": [
      "请输入成绩： 2\n"
     ]
    },
    {
     "name": "stdout",
     "output_type": "stream",
     "text": [
      "还得练\n"
     ]
    }
   ],
   "source": [
    "score = float(input(\"请输入成绩：\"))\n",
    "if score>=90:\n",
    "    print(\"优秀\")\n",
    "else:\n",
    "    print('还得练')"
   ]
  },
  {
   "cell_type": "code",
   "execution_count": 2,
   "id": "62f1b56c-03ab-414e-a2b5-b67257b4fb21",
   "metadata": {},
   "outputs": [
    {
     "ename": "KeyboardInterrupt",
     "evalue": "Interrupted by user",
     "output_type": "error",
     "traceback": [
      "\u001b[1;31m---------------------------------------------------------------------------\u001b[0m",
      "\u001b[1;31mKeyboardInterrupt\u001b[0m                         Traceback (most recent call last)",
      "Cell \u001b[1;32mIn[2], line 1\u001b[0m\n\u001b[1;32m----> 1\u001b[0m x,y\u001b[38;5;241m=\u001b[39m\u001b[38;5;28meval\u001b[39m(\u001b[38;5;28minput\u001b[39m(\u001b[38;5;124m'\u001b[39m\u001b[38;5;124m请输入两个数用逗号（英文）分隔：\u001b[39m\u001b[38;5;124m'\u001b[39m))\n\u001b[0;32m      2\u001b[0m \u001b[38;5;28;01mif\u001b[39;00m x\u001b[38;5;241m<\u001b[39m\u001b[38;5;241m=\u001b[39my \u001b[38;5;129;01mand\u001b[39;00m y\u001b[38;5;241m!=\u001b[39m\u001b[38;5;241m0\u001b[39m:\n\u001b[0;32m      3\u001b[0m     x,y\u001b[38;5;241m=\u001b[39my,x\n",
      "File \u001b[1;32mD:\\Users\\Shitianyaa\\anaconda3\\Lib\\site-packages\\ipykernel\\kernelbase.py:1262\u001b[0m, in \u001b[0;36mKernel.raw_input\u001b[1;34m(self, prompt)\u001b[0m\n\u001b[0;32m   1260\u001b[0m     msg \u001b[38;5;241m=\u001b[39m \u001b[38;5;124m\"\u001b[39m\u001b[38;5;124mraw_input was called, but this frontend does not support input requests.\u001b[39m\u001b[38;5;124m\"\u001b[39m\n\u001b[0;32m   1261\u001b[0m     \u001b[38;5;28;01mraise\u001b[39;00m StdinNotImplementedError(msg)\n\u001b[1;32m-> 1262\u001b[0m \u001b[38;5;28;01mreturn\u001b[39;00m \u001b[38;5;28mself\u001b[39m\u001b[38;5;241m.\u001b[39m_input_request(\n\u001b[0;32m   1263\u001b[0m     \u001b[38;5;28mstr\u001b[39m(prompt),\n\u001b[0;32m   1264\u001b[0m     \u001b[38;5;28mself\u001b[39m\u001b[38;5;241m.\u001b[39m_parent_ident[\u001b[38;5;124m\"\u001b[39m\u001b[38;5;124mshell\u001b[39m\u001b[38;5;124m\"\u001b[39m],\n\u001b[0;32m   1265\u001b[0m     \u001b[38;5;28mself\u001b[39m\u001b[38;5;241m.\u001b[39mget_parent(\u001b[38;5;124m\"\u001b[39m\u001b[38;5;124mshell\u001b[39m\u001b[38;5;124m\"\u001b[39m),\n\u001b[0;32m   1266\u001b[0m     password\u001b[38;5;241m=\u001b[39m\u001b[38;5;28;01mFalse\u001b[39;00m,\n\u001b[0;32m   1267\u001b[0m )\n",
      "File \u001b[1;32mD:\\Users\\Shitianyaa\\anaconda3\\Lib\\site-packages\\ipykernel\\kernelbase.py:1305\u001b[0m, in \u001b[0;36mKernel._input_request\u001b[1;34m(self, prompt, ident, parent, password)\u001b[0m\n\u001b[0;32m   1302\u001b[0m \u001b[38;5;28;01mexcept\u001b[39;00m \u001b[38;5;167;01mKeyboardInterrupt\u001b[39;00m:\n\u001b[0;32m   1303\u001b[0m     \u001b[38;5;66;03m# re-raise KeyboardInterrupt, to truncate traceback\u001b[39;00m\n\u001b[0;32m   1304\u001b[0m     msg \u001b[38;5;241m=\u001b[39m \u001b[38;5;124m\"\u001b[39m\u001b[38;5;124mInterrupted by user\u001b[39m\u001b[38;5;124m\"\u001b[39m\n\u001b[1;32m-> 1305\u001b[0m     \u001b[38;5;28;01mraise\u001b[39;00m \u001b[38;5;167;01mKeyboardInterrupt\u001b[39;00m(msg) \u001b[38;5;28;01mfrom\u001b[39;00m \u001b[38;5;28;01mNone\u001b[39;00m\n\u001b[0;32m   1306\u001b[0m \u001b[38;5;28;01mexcept\u001b[39;00m \u001b[38;5;167;01mException\u001b[39;00m:\n\u001b[0;32m   1307\u001b[0m     \u001b[38;5;28mself\u001b[39m\u001b[38;5;241m.\u001b[39mlog\u001b[38;5;241m.\u001b[39mwarning(\u001b[38;5;124m\"\u001b[39m\u001b[38;5;124mInvalid Message:\u001b[39m\u001b[38;5;124m\"\u001b[39m, exc_info\u001b[38;5;241m=\u001b[39m\u001b[38;5;28;01mTrue\u001b[39;00m)\n",
      "\u001b[1;31mKeyboardInterrupt\u001b[0m: Interrupted by user"
     ]
    }
   ],
   "source": [
    "x,y=eval(input('请输入两个数用逗号（英文）分隔：'))\n",
    "if x<=y and y!=0:\n",
    "    x,y=y,x\n",
    "    print(f\"两数的商为{x/y}\")\n",
    "else:\n",
    "    print(\"换个数吧\")"
   ]
  },
  {
   "cell_type": "code",
   "execution_count": 79,
   "id": "bdae2d15-2644-46cb-a5f2-8983e270e66d",
   "metadata": {},
   "outputs": [
    {
     "name": "stdin",
     "output_type": "stream",
     "text": [
      "请输入两个数用逗号（英文）分隔： 1,1\n"
     ]
    },
    {
     "name": "stdout",
     "output_type": "stream",
     "text": [
      "1\n"
     ]
    }
   ],
   "source": [
    "a,b = eval(input('请输入两个数用逗号（英文）分隔：'))\n",
    "max_num = a if a>b else b\n",
    "print(max_num)\n"
   ]
  },
  {
   "cell_type": "code",
   "execution_count": 8,
   "id": "52222116-5209-40a5-a782-8dbf575b56f9",
   "metadata": {
    "scrolled": true
   },
   "outputs": [
    {
     "name": "stdin",
     "output_type": "stream",
     "text": [
      "请输入姓名： 1\n"
     ]
    },
    {
     "name": "stdout",
     "output_type": "stream",
     "text": [
      "你好1\n"
     ]
    }
   ],
   "source": [
    "name=input('请输入姓名：')\n",
    "print(f'你好{name}')"
   ]
  },
  {
   "cell_type": "code",
   "execution_count": 24,
   "id": "40813397-1bcf-4827-96ae-a46940ffc161",
   "metadata": {},
   "outputs": [
    {
     "name": "stdin",
     "output_type": "stream",
     "text": [
      "请输入第一个数： 1\n",
      "请输入第二个数： 1\n"
     ]
    },
    {
     "name": "stdout",
     "output_type": "stream",
     "text": [
      "1.0,1.0两数之和是2.0\n"
     ]
    }
   ],
   "source": [
    "a=float(input('请输入第一个数：'))\n",
    "\n",
    "b=float(input('请输入第二个数：'))\n",
    "\n",
    "c=a+b\n",
    "print(f'{a},{b}两数之和是{c}')"
   ]
  },
  {
   "cell_type": "code",
   "execution_count": 48,
   "id": "c8c82863-e423-4e1b-8069-c9abb7c6a258",
   "metadata": {},
   "outputs": [
    {
     "name": "stdout",
     "output_type": "stream",
     "text": [
      "1 2\n"
     ]
    },
    {
     "name": "stdin",
     "output_type": "stream",
     "text": [
      "请输入两个数字用逗号隔开 1,2\n"
     ]
    },
    {
     "name": "stdout",
     "output_type": "stream",
     "text": [
      "3\n"
     ]
    }
   ],
   "source": [
    "import ast\n",
    "x,y=1,2\n",
    "print(x,y)\n",
    "a,b=ast.literal_eval(input('请输入两个数字用逗号隔开'))\n",
    "c=a+b\n",
    "print(c)"
   ]
  },
  {
   "cell_type": "code",
   "execution_count": 76,
   "id": "48ccf43d-3004-4583-9b63-c106e85025e2",
   "metadata": {},
   "outputs": [
    {
     "name": "stdin",
     "output_type": "stream",
     "text": [
      "输入： 11111,66666666\n"
     ]
    },
    {
     "name": "stdout",
     "output_type": "stream",
     "text": [
      "66666666较大\n"
     ]
    }
   ],
   "source": [
    "a,b=eval(input(\"输入：\"))\n",
    "max_num=a if a>b else b\n",
    "print(f'{max_num}较大')"
   ]
  },
  {
   "cell_type": "code",
   "execution_count": 60,
   "id": "41630c04-7721-4201-b085-0903e35bb103",
   "metadata": {},
   "outputs": [
    {
     "name": "stdin",
     "output_type": "stream",
     "text": [
      "请输入两个数： 22,6\n"
     ]
    },
    {
     "name": "stdout",
     "output_type": "stream",
     "text": [
      "不交换\n",
      "22 6\n"
     ]
    }
   ],
   "source": [
    "import ast\n",
    "x,y=ast.literal_eval(input('请输入两个数：'))\n",
    "if x<=y:\n",
    "    print(\"交换xy\")\n",
    "    x,y=y,x\n",
    "    print(x,y)\n",
    "else:\n",
    "    print('不交换')\n",
    "    print(x,y)"
   ]
  },
  {
   "cell_type": "code",
   "execution_count": 62,
   "id": "5c6a4dcf-9d1b-4285-9542-a5e7a8241ca1",
   "metadata": {},
   "outputs": [
    {
     "name": "stdin",
     "output_type": "stream",
     "text": [
      "请输入被除数和除数： 1,0\n"
     ]
    },
    {
     "name": "stdout",
     "output_type": "stream",
     "text": [
      "除数不能为零\n"
     ]
    }
   ],
   "source": [
    "import ast\n",
    "a,b=ast.literal_eval(input(\"请输入被除数和除数：\"))\n",
    "if b!=0:\n",
    "    print(a/b)\n",
    "else:\n",
    "    print(\"除数不能为零\")"
   ]
  },
  {
   "cell_type": "code",
   "execution_count": 86,
   "id": "912b13c9-5041-4b67-b12c-25f50eb8521f",
   "metadata": {},
   "outputs": [
    {
     "name": "stdin",
     "output_type": "stream",
     "text": [
      "请输入年份： 2025\n"
     ]
    },
    {
     "name": "stdout",
     "output_type": "stream",
     "text": [
      "2025不是闰年！\n"
     ]
    }
   ],
   "source": [
    "a=eval(input(\"请输入年份：\"))\n",
    "if (a%4==0) and (a%100!=0):\n",
    "    print(f'{a}年是闰年！')\n",
    "else:\n",
    "    print(f'{a}不是闰年！')"
   ]
  },
  {
   "cell_type": "code",
   "execution_count": 133,
   "id": "63e1b65e-5191-46fa-8631-f2919116e4c3",
   "metadata": {},
   "outputs": [
    {
     "name": "stdin",
     "output_type": "stream",
     "text": [
      "请输入a，b，c。（ax^2+bx+c）： 1,2,4\n"
     ]
    },
    {
     "name": "stdout",
     "output_type": "stream",
     "text": [
      "该方程没有实数根\n"
     ]
    }
   ],
   "source": [
    "a,b,c=eval(input(\"请输入a，b，c。（ax^2+bx+c）：\"))\n",
    "if (b**2-4*a*c)==0:\n",
    "    d=(-b+(b**2-4*a*c)**0.5)/(2*a)\n",
    "    print(f'该方程有一个根,且为{d}')\n",
    "elif (b**2-4*a*c)>0:\n",
    "    e=(-b+(b**2-4*a*c)**1/2)/(2*a)\n",
    "    f=(-b-(b**2-4*a*c)**1/2)/(2*a)\n",
    "    print(f'该方程有两个根,为{e}和{f}')\n",
    "else:\n",
    "    print(f'该方程没有实数根')"
   ]
  },
  {
   "cell_type": "code",
   "execution_count": 129,
   "id": "d7296c1a-1b02-4c4c-91b2-9230c29495bf",
   "metadata": {},
   "outputs": [
    {
     "name": "stdout",
     "output_type": "stream",
     "text": [
      "1\n",
      "2\n",
      "3\n",
      "4\n",
      "5\n",
      "6\n",
      "7\n",
      "8\n",
      "9\n",
      "10\n"
     ]
    }
   ],
   "source": [
    "k=0\n",
    "while k<10:\n",
    "    k=k+1\n",
    "    print(k)"
   ]
  },
  {
   "cell_type": "code",
   "execution_count": 4,
   "id": "081943ab-3075-40aa-8c0e-9b7762d3187f",
   "metadata": {},
   "outputs": [
    {
     "name": "stdin",
     "output_type": "stream",
     "text": [
      "输入评分（输入0结束）： 3\n",
      "输入评分（输入0结束）： 33\n",
      "输入评分（输入0结束）： 945\n",
      "输入评分（输入0结束）： 645\n",
      "输入评分（输入0结束）： 0\n"
     ]
    }
   ],
   "source": [
    "num=0\n",
    "while True:\n",
    "    score = float(input(\"输入评分（输入0结束）：\"))\n",
    "    if score <0:\n",
    "        print(\"不能为负数\")\n",
    "        continue  ##提前结束\n",
    "    elif score== 0:\n",
    "         break\n"
   ]
  },
  {
   "cell_type": "code",
   "execution_count": 4,
   "id": "0364daf6-eab2-4041-b441-8c07c4d6d275",
   "metadata": {},
   "outputs": [
    {
     "name": "stdin",
     "output_type": "stream",
     "text": [
      "请输入密码： 1\n"
     ]
    },
    {
     "name": "stdout",
     "output_type": "stream",
     "text": [
      "请重新登录\n"
     ]
    },
    {
     "name": "stdin",
     "output_type": "stream",
     "text": [
      "请输入密码： 1\n"
     ]
    },
    {
     "name": "stdout",
     "output_type": "stream",
     "text": [
      "请重新登录\n"
     ]
    },
    {
     "name": "stdin",
     "output_type": "stream",
     "text": [
      "请输入密码： 1\n"
     ]
    },
    {
     "name": "stdout",
     "output_type": "stream",
     "text": [
      "错误次数过多\n"
     ]
    }
   ],
   "source": [
    "a=0\n",
    "b=3\n",
    "while True:\n",
    "     password = input(\"请输入密码：\")\n",
    "     if password==\"python\":\n",
    "        print(\"欢迎！\")\n",
    "        break\n",
    "     else: \n",
    "         a=a+1\n",
    "         if b>a:\n",
    "             print(\"请重新登录\")\n",
    "         elif b<=a:\n",
    "             print(\"错误次数过多\")\n",
    "             break\n",
    "    "
   ]
  },
  {
   "cell_type": "code",
   "execution_count": 16,
   "id": "7f9da7d5-36e1-4920-aa12-0fd1c0a5e1b4",
   "metadata": {},
   "outputs": [
    {
     "name": "stdin",
     "output_type": "stream",
     "text": [
      "请设置密码： 1\n",
      "请再次输入确认： 1\n",
      "请输入密码： 2\n"
     ]
    },
    {
     "name": "stdout",
     "output_type": "stream",
     "text": [
      "密码不对，请重新输入\n"
     ]
    },
    {
     "name": "stdin",
     "output_type": "stream",
     "text": [
      "请输入密码： 2\n"
     ]
    },
    {
     "name": "stdout",
     "output_type": "stream",
     "text": [
      "密码不对，请重新输入\n"
     ]
    },
    {
     "name": "stdin",
     "output_type": "stream",
     "text": [
      "请输入密码： 2\n"
     ]
    },
    {
     "name": "stdout",
     "output_type": "stream",
     "text": [
      "密码不对，请重新输入\n",
      "输入错误次数过多\n"
     ]
    }
   ],
   "source": [
    "a=0\n",
    "b=3\n",
    "while True:\n",
    "    pw_1=input(\"请设置密码：\")\n",
    "    pw_2=input(\"请再次输入确认：\")\n",
    "    if pw_1!=pw_2:\n",
    "        print(\"两次输入结果不一致，请重新输入\")\n",
    "        continue\n",
    "    else:\n",
    "        break\n",
    "while True:\n",
    "    pw=input(\"请输入密码：\")\n",
    "    if pw==pw_1:\n",
    "        print(\"密码正确\")\n",
    "        break\n",
    "    else:\n",
    "        if pw!=pw_1:\n",
    "            a=a+1\n",
    "            print(\"密码不对，请重新输入\")\n",
    "           # continue\n",
    "            if a>=b:\n",
    "                print(\"输入错误次数过多\")\n",
    "                break\n",
    "\n",
    "    \n",
    "                \n",
    "        \n",
    "    "
   ]
  },
  {
   "cell_type": "code",
   "execution_count": 6,
   "id": "0712469b-5d8c-4006-a852-4135f4f96005",
   "metadata": {},
   "outputs": [
    {
     "name": "stdout",
     "output_type": "stream",
     "text": [
      "False\n"
     ]
    }
   ],
   "source": [
    "print(not 3)"
   ]
  },
  {
   "cell_type": "code",
   "execution_count": 10,
   "id": "53945abf-1f83-4c84-8526-8c1be419f73b",
   "metadata": {},
   "outputs": [
    {
     "name": "stdout",
     "output_type": "stream",
     "text": [
      "2\n",
      "4\n",
      "6\n",
      "8\n"
     ]
    }
   ],
   "source": [
    "i=1\n",
    "\n",
    "while i<10:\n",
    "\n",
    "    if not i%2:\n",
    "\n",
    "        print(i)\n",
    "\n",
    "    i = i + 1"
   ]
  },
  {
   "cell_type": "code",
   "execution_count": null,
   "id": "00bad4e1-dbac-4f08-98e8-32d81a69c0ce",
   "metadata": {},
   "outputs": [],
   "source": [
    "a=0\n",
    "n=int(input(\"请输入：\"))\n",
    "while a<n:\n",
    "    \n",
    "    if a%2!=0:\n",
    "        \n",
    "        print(a)\n",
    "        a=a+1\n",
    "    else:\n",
    "        continue\n",
    "        "
   ]
  },
  {
   "cell_type": "code",
   "execution_count": null,
   "id": "9d1628e5-c71a-4ef9-90bf-8d324b77dce0",
   "metadata": {},
   "outputs": [],
   "source": []
  }
 ],
 "metadata": {
  "kernelspec": {
   "display_name": "Python [conda env:base] *",
   "language": "python",
   "name": "conda-base-py"
  },
  "language_info": {
   "codemirror_mode": {
    "name": "ipython",
    "version": 3
   },
   "file_extension": ".py",
   "mimetype": "text/x-python",
   "name": "python",
   "nbconvert_exporter": "python",
   "pygments_lexer": "ipython3",
   "version": "3.12.7"
  }
 },
 "nbformat": 4,
 "nbformat_minor": 5
}
