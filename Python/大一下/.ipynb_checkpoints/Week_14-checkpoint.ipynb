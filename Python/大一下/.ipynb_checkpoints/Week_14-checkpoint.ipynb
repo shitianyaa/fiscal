{
 "cells": [
  {
   "cell_type": "code",
   "execution_count": 28,
   "id": "ecf9bcbc-0962-4c1c-a941-f0b34dad948d",
   "metadata": {},
   "outputs": [
    {
     "name": "stdout",
     "output_type": "stream",
     "text": [
      "['怒发冲冠，凭栏处、潇潇雨歇。抬望眼，仰天长啸，壮怀激烈。三十功名尘与土，八千里路云和月。莫等闲，白了少年头，空悲切！\\n', '靖康耻，犹未雪。臣子恨，何时灭！驾长车，踏破贺兰山缺。壮志饥餐胡虏肉，笑谈渴饮匈奴血。待从头、收拾旧山河，朝天阙。']\n"
     ]
    }
   ],
   "source": [
    "##\"d:\\text\\notebook\\tip.txt\"\n",
    "f=open(r\"d:2025年2月20日V2ray.txt\",\"rt\")\n",
    "##f.write(\"你好，新同学\")\n",
    "##f.close()\n",
    "a=f.readlines()\n",
    "print(a)\n"
   ]
  },
  {
   "cell_type": "code",
   "execution_count": 40,
   "id": "11fc71f4-9af8-40d7-af30-c33d59fcd9f3",
   "metadata": {},
   "outputs": [
    {
     "ename": "IndexError",
     "evalue": "list index out of range",
     "output_type": "error",
     "traceback": [
      "\u001b[1;31m---------------------------------------------------------------------------\u001b[0m",
      "\u001b[1;31mIndexError\u001b[0m                                Traceback (most recent call last)",
      "Cell \u001b[1;32mIn[40], line 5\u001b[0m\n\u001b[0;32m      3\u001b[0m \u001b[38;5;28;01mfor\u001b[39;00m line \u001b[38;5;129;01min\u001b[39;00m f:\n\u001b[0;32m      4\u001b[0m     b\u001b[38;5;241m=\u001b[39mline\u001b[38;5;241m.\u001b[39msplit(\u001b[38;5;124m\"\u001b[39m\u001b[38;5;124m,\u001b[39m\u001b[38;5;124m\"\u001b[39m)\n\u001b[1;32m----> 5\u001b[0m     a\u001b[38;5;241m=\u001b[39m[b[\u001b[38;5;241m0\u001b[39m]]\u001b[38;5;241m=\u001b[39mb[\u001b[38;5;241m1\u001b[39m],strip()\n",
      "\u001b[1;31mIndexError\u001b[0m: list index out of range"
     ]
    }
   ],
   "source": [
    "f=open(r\"D:\\DEMONjava\\1.txt\",encoding=\"utf-8\")\n",
    "a={}\n",
    "for line in f:\n",
    "    b=line.split(\",\")\n",
    "    a=[b[0]]=b[1],strip()"
   ]
  },
  {
   "cell_type": "code",
   "execution_count": 30,
   "id": "1db4365b-c685-4b85-a5cb-6b68174d5c04",
   "metadata": {},
   "outputs": [
    {
     "data": {
      "text/plain": [
       "'靖康耻，犹未雪。臣子恨，何时灭！驾长车，踏破贺兰山缺。壮志饥餐胡虏肉，笑谈渴饮匈奴血。待从头、收拾旧山河，朝天阙。'"
      ]
     },
     "execution_count": 30,
     "metadata": {},
     "output_type": "execute_result"
    }
   ],
   "source": [
    "a[1]"
   ]
  }
 ],
 "metadata": {
  "kernelspec": {
   "display_name": "Python [conda env:base] *",
   "language": "python",
   "name": "conda-base-py"
  },
  "language_info": {
   "codemirror_mode": {
    "name": "ipython",
    "version": 3
   },
   "file_extension": ".py",
   "mimetype": "text/x-python",
   "name": "python",
   "nbconvert_exporter": "python",
   "pygments_lexer": "ipython3",
   "version": "3.12.7"
  }
 },
 "nbformat": 4,
 "nbformat_minor": 5
}
