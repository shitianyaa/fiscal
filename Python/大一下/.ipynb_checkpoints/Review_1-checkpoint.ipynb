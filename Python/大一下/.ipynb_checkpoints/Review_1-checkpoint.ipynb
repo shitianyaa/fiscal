{
 "cells": [
  {
   "cell_type": "code",
   "execution_count": 40,
   "id": "fbce6cc2-e2f2-41d2-8e01-ec74f979029d",
   "metadata": {},
   "outputs": [
    {
     "name": "stdout",
     "output_type": "stream",
     "text": [
      "[6, 7, 9, 11]\n"
     ]
    }
   ],
   "source": [
    "aList=[3, 4, 5, 6, 7, 9, 11, 13, 15]\n",
    "print(aList[3:7])"
   ]
  },
  {
   "cell_type": "code",
   "execution_count": 66,
   "id": "bbc96fa3-c488-49d5-a5b7-7282219b932b",
   "metadata": {},
   "outputs": [
    {
     "name": "stdin",
     "output_type": "stream",
     "text": [
      "请输入三个点的坐标： 1,9,2,6,3,8\n"
     ]
    },
    {
     "name": "stdout",
     "output_type": "stream",
     "text": [
      "2.5\n"
     ]
    }
   ],
   "source": [
    "x1,y1,x2,y2,x3,y3=eval(input(\"请输入三个点的坐标：\"))\n",
    "c1=((y2-y1)**2+(x2-x1)**2)**0.5\n",
    "c2=((y3-y2)**2+(x3-x2)**2)**0.5\n",
    "c3=((y3-y1)**2+(x3-x1)**2)**0.5\n",
    "c=c1+c2+c3\n",
    "d=c/2\n",
    "if c1+c2<=c3 or c1+c3<=c2 or c2+c3<=c1:\n",
    "    print(\"不能构成三角形\")\n",
    "else:\n",
    "    s=(d*(d-c1)*(d-c2)*(d-c3))**0.5\n",
    "    s1=round(s,2)\n",
    "    print(s1)\n",
    "    \n",
    "    \n",
    "    "
   ]
  },
  {
   "cell_type": "code",
   "execution_count": 10,
   "id": "8613d60b-d47b-49b5-81bc-a19d2697f083",
   "metadata": {},
   "outputs": [
    {
     "name": "stdout",
     "output_type": "stream",
     "text": [
      "2\n"
     ]
    }
   ],
   "source": [
    "i=0\n",
    "if i%2:\n",
    "    print(1)\n",
    "else:\n",
    "    print(2)"
   ]
  },
  {
   "cell_type": "code",
   "execution_count": 36,
   "id": "b556a353-5d34-41f1-9b55-083ebc59dd71",
   "metadata": {},
   "outputs": [
    {
     "name": "stdout",
     "output_type": "stream",
     "text": [
      "1x1=1\t\n",
      "2x1=2\t2x2=4\t\n",
      "3x1=3\t3x2=6\t3x3=9\t\n",
      "4x1=4\t4x2=8\t4x3=12\t4x4=16\t\n",
      "5x1=5\t5x2=10\t5x3=15\t5x4=20\t5x5=25\t\n",
      "6x1=6\t6x2=12\t6x3=18\t6x4=24\t6x5=30\t6x6=36\t\n",
      "7x1=7\t7x2=14\t7x3=21\t7x4=28\t7x5=35\t7x6=42\t7x7=49\t\n",
      "8x1=8\t8x2=16\t8x3=24\t8x4=32\t8x5=40\t8x6=48\t8x7=56\t8x8=64\t\n",
      "9x1=9\t9x2=18\t9x3=27\t9x4=36\t9x5=45\t9x6=54\t9x7=63\t9x8=72\t9x9=81\t\n"
     ]
    }
   ],
   "source": [
    "##打印九九乘法表\n",
    "i=0\n",
    "while i<9:\n",
    "    i=i+1\n",
    "    for k in range(1,i+1):\n",
    "        print(f'{i}x{k}={i*k}',end='\\t')\n",
    "    print()"
   ]
  },
  {
   "cell_type": "code",
   "execution_count": 24,
   "id": "aa09f05c-ff8e-4c4d-b0dd-2021d9ed1079",
   "metadata": {},
   "outputs": [
    {
     "name": "stdout",
     "output_type": "stream",
     "text": [
      "1\n",
      "1\n",
      "1\n",
      "\n",
      "2\n",
      "2\n",
      "2\n"
     ]
    }
   ],
   "source": [
    "a=[1,2,3]\n",
    "for i in range(len(a)):\n",
    "    print(1)\n",
    "print()\n",
    "for i in  a:\n",
    "    print(2)"
   ]
  },
  {
   "cell_type": "code",
   "execution_count": 34,
   "id": "066d2f68-22d9-44a3-b984-e53f61075248",
   "metadata": {},
   "outputs": [
    {
     "name": "stdout",
     "output_type": "stream",
     "text": [
      "[(1, 'a')]\n"
     ]
    }
   ],
   "source": [
    "##zip\n",
    "a=[1,2,3]\n",
    "b=[\"a\"]\n",
    "zipped=zip(a,b)\n",
    "print(list(zipped)) ##加个list"
   ]
  },
  {
   "cell_type": "code",
   "execution_count": 4,
   "id": "3d20e022-baea-4a7a-9e9c-7639ae43c40b",
   "metadata": {},
   "outputs": [
    {
     "name": "stdout",
     "output_type": "stream",
     "text": [
      "True\n"
     ]
    }
   ],
   "source": [
    "a=3\n",
    "a//=2\n",
    "print( (5 > 3) or (3 > 5))"
   ]
  },
  {
   "cell_type": "code",
   "execution_count": 34,
   "id": "98f704cc-71be-44ec-a156-07347a96f52c",
   "metadata": {},
   "outputs": [
    {
     "name": "stdout",
     "output_type": "stream",
     "text": [
      "1*1=1\t2*1=2\t3*1=3\t4*1=4\t5*1=5\t6*1=6\t7*1=7\t8*1=8\t9*1=9\t\n",
      "2*2=4\t3*2=6\t4*2=8\t5*2=10\t6*2=12\t7*2=14\t8*2=16\t9*2=18\t\n",
      "3*3=9\t4*3=12\t5*3=15\t6*3=18\t7*3=21\t8*3=24\t9*3=27\t\n",
      "4*4=16\t5*4=20\t6*4=24\t7*4=28\t8*4=32\t9*4=36\t\n",
      "5*5=25\t6*5=30\t7*5=35\t8*5=40\t9*5=45\t\n",
      "6*6=36\t7*6=42\t8*6=48\t9*6=54\t\n",
      "7*7=49\t8*7=56\t9*7=63\t\n",
      "8*8=64\t9*8=72\t\n",
      "9*9=81\t\n",
      "\n"
     ]
    }
   ],
   "source": [
    "i=0\n",
    "while i<=9:\n",
    "    i+=1\n",
    "    for k in range(i,10):\n",
    "        print(f'{k}*{i}={i*k}',end='\\t')\n",
    "    print()"
   ]
  },
  {
   "cell_type": "code",
   "execution_count": 42,
   "id": "23a8faec-f4b9-4bf2-b42f-9929268f7b91",
   "metadata": {},
   "outputs": [
    {
     "name": "stdout",
     "output_type": "stream",
     "text": [
      "1x1=1\t\n",
      "1x2=2\t2x2=4\t\n",
      "1x3=3\t2x3=6\t3x3=9\t\n",
      "1x4=4\t2x4=8\t3x4=12\t4x4=16\t\n",
      "1x5=5\t2x5=10\t3x5=15\t4x5=20\t5x5=25\t\n",
      "1x6=6\t2x6=12\t3x6=18\t4x6=24\t5x6=30\t6x6=36\t\n",
      "1x7=7\t2x7=14\t3x7=21\t4x7=28\t5x7=35\t6x7=42\t7x7=49\t\n",
      "1x8=8\t2x8=16\t3x8=24\t4x8=32\t5x8=40\t6x8=48\t7x8=56\t8x8=64\t\n",
      "1x9=9\t2x9=18\t3x9=27\t4x9=36\t5x9=45\t6x9=54\t7x9=63\t8x9=72\t9x9=81\t\n"
     ]
    }
   ],
   "source": [
    "for i in range(1,10):\n",
    "    for k in range(1,i+1):\n",
    "        print(f'{k}x{i}={i*k}',end='\\t')\n",
    "    print()"
   ]
  },
  {
   "cell_type": "code",
   "execution_count": 28,
   "id": "e27bd938-75f3-4b70-af77-6590a202bf2c",
   "metadata": {},
   "outputs": [
    {
     "name": "stdout",
     "output_type": "stream",
     "text": [
      "1 x 1 = 1\t\n",
      "1 x 2 = 2\t2 x 2 = 4\t\n",
      "1 x 3 = 3\t2 x 3 = 6\t3 x 3 = 9\t\n",
      "1 x 4 = 4\t2 x 4 = 8\t3 x 4 = 12\t4 x 4 = 16\t\n",
      "1 x 5 = 5\t2 x 5 = 10\t3 x 5 = 15\t4 x 5 = 20\t5 x 5 = 25\t\n",
      "1 x 6 = 6\t2 x 6 = 12\t3 x 6 = 18\t4 x 6 = 24\t5 x 6 = 30\t6 x 6 = 36\t\n",
      "1 x 7 = 7\t2 x 7 = 14\t3 x 7 = 21\t4 x 7 = 28\t5 x 7 = 35\t6 x 7 = 42\t7 x 7 = 49\t\n",
      "1 x 8 = 8\t2 x 8 = 16\t3 x 8 = 24\t4 x 8 = 32\t5 x 8 = 40\t6 x 8 = 48\t7 x 8 = 56\t8 x 8 = 64\t\n",
      "1 x 9 = 9\t2 x 9 = 18\t3 x 9 = 27\t4 x 9 = 36\t5 x 9 = 45\t6 x 9 = 54\t7 x 9 = 63\t8 x 9 = 72\t9 x 9 = 81\t\n"
     ]
    }
   ],
   "source": [
    "for i in range(1, 10):\n",
    "    for j in range(1, i + 1):\n",
    "        print(f\"{j} x {i} = {i * j}\", end=\"\\t\")\n",
    "    print()\n",
    "    "
   ]
  },
  {
   "cell_type": "code",
   "execution_count": 54,
   "id": "738e2d78-10ff-43bd-a05d-372606ebfff5",
   "metadata": {},
   "outputs": [
    {
     "name": "stdout",
     "output_type": "stream",
     "text": [
      "[1, 2, 3]\n"
     ]
    }
   ],
   "source": [
    "print(list((1,2,3)))"
   ]
  },
  {
   "cell_type": "code",
   "execution_count": 58,
   "id": "600e44af-84ce-44d0-94e8-617fba8816df",
   "metadata": {},
   "outputs": [
    {
     "name": "stdout",
     "output_type": "stream",
     "text": [
      "[10, 2, 20, 4]\n"
     ]
    }
   ],
   "source": [
    "a=[1,2,3,4]\n",
    "a[::2]=[10,20]\n",
    "print(a)"
   ]
  }
 ],
 "metadata": {
  "kernelspec": {
   "display_name": "Python [conda env:base] *",
   "language": "python",
   "name": "conda-base-py"
  },
  "language_info": {
   "codemirror_mode": {
    "name": "ipython",
    "version": 3
   },
   "file_extension": ".py",
   "mimetype": "text/x-python",
   "name": "python",
   "nbconvert_exporter": "python",
   "pygments_lexer": "ipython3",
   "version": "3.12.7"
  }
 },
 "nbformat": 4,
 "nbformat_minor": 5
}
