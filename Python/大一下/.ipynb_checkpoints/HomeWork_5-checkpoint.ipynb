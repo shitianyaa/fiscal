{
 "cells": [
  {
   "cell_type": "code",
   "execution_count": 2,
   "id": "4266f96b-a7f6-4fad-834d-1167658e6090",
   "metadata": {},
   "outputs": [
    {
     "name": "stdin",
     "output_type": "stream",
     "text": [
      "增加学生信息(A),查找学生信息(S),删除学生信息(D),退出系统(Q),请输入： A\n"
     ]
    },
    {
     "name": "stdout",
     "output_type": "stream",
     "text": [
      "增加学生信息\n"
     ]
    },
    {
     "name": "stdin",
     "output_type": "stream",
     "text": [
      "增加学生信息(A),查找学生信息(S),删除学生信息(D),退出系统(Q),请输入： 1\n"
     ]
    },
    {
     "name": "stdout",
     "output_type": "stream",
     "text": [
      "输入有误，请重新输入\n"
     ]
    },
    {
     "name": "stdin",
     "output_type": "stream",
     "text": [
      "增加学生信息(A),查找学生信息(S),删除学生信息(D),退出系统(Q),请输入： Q\n"
     ]
    }
   ],
   "source": [
    "while True:\n",
    "    a=input(\"增加学生信息(A),查找学生信息(S),删除学生信息(D),退出系统(Q),请输入：\")\n",
    "    if a==\"A\":\n",
    "        print(\"增加学生信息\")\n",
    "    elif a==\"S\":\n",
    "        print(\"查找学生信息\")\n",
    "    elif a==\"D\":\n",
    "        print(\"删除学生信息\")\n",
    "    elif a==\"Q\":\n",
    "        break\n",
    "    else:\n",
    "        print(\"输入有误，请重新输入\")"
   ]
  },
  {
   "cell_type": "code",
   "execution_count": 20,
   "id": "b0fd3a53-d267-4d97-8f4a-89cc7694c326",
   "metadata": {},
   "outputs": [
    {
     "name": "stdin",
     "output_type": "stream",
     "text": [
      "请输入学号： 1001\n",
      "该生已存在，请重新输入： 1002\n",
      "请输入姓名： 田一\n",
      "请输入成绩： 98\n"
     ]
    },
    {
     "name": "stdout",
     "output_type": "stream",
     "text": [
      "[[1001, '张三', 90], [1002, '田一', 98]]\n"
     ]
    }
   ],
   "source": [
    "students=[[1001,\"张三\",90]]\n",
    "a=int(input(\"请输入学号：\"))\n",
    "for i in students:\n",
    "    if a in i:\n",
    "        a=int(input(\"该生已存在，请重新输入：\"))\n",
    "        b=input(\"请输入姓名：\")\n",
    "        c=int(input(\"请输入成绩：\"))\n",
    "    else:\n",
    "        b=input(\"请输入姓名：\")\n",
    "        c=int(input(\"请输入成绩：\"))\n",
    "students.append([a,b,c])\n",
    "print(students)"
   ]
  },
  {
   "cell_type": "code",
   "execution_count": 26,
   "id": "63f01a74-e635-4eb2-8318-a80730114f54",
   "metadata": {},
   "outputs": [
    {
     "name": "stdin",
     "output_type": "stream",
     "text": [
      "请输入学号： 132\n"
     ]
    },
    {
     "name": "stdout",
     "output_type": "stream",
     "text": [
      "该生不存在\n"
     ]
    }
   ],
   "source": [
    "students=[[1001,\"张三\",90]]\n",
    "a=int(input(\"请输入学号：\"))\n",
    "for i in students:\n",
    "    if a in i:\n",
    "        a=input(\"该生已存在\")\n",
    "    else:\n",
    "        print(\"该生不存在\")"
   ]
  },
  {
   "cell_type": "code",
   "execution_count": 36,
   "id": "42c1fd55-a1d3-4048-83d3-fb0c934771a7",
   "metadata": {},
   "outputs": [
    {
     "name": "stdin",
     "output_type": "stream",
     "text": [
      "请输入学号： 1001\n"
     ]
    },
    {
     "name": "stdout",
     "output_type": "stream",
     "text": [
      "已删除该生信息\n",
      "[]\n"
     ]
    }
   ],
   "source": [
    "students=[[1001,\"张三\",90]]\n",
    "a=int(input(\"请输入学号：\"))\n",
    "for i in students:\n",
    "    if a in i:\n",
    "        students.remove(i)\n",
    "        print(\"已删除该生信息\")\n",
    "        ##print(students)\n",
    "    else:\n",
    "       print(\"该生不存在\")"
   ]
  }
 ],
 "metadata": {
  "kernelspec": {
   "display_name": "Python [conda env:base] *",
   "language": "python",
   "name": "conda-base-py"
  },
  "language_info": {
   "codemirror_mode": {
    "name": "ipython",
    "version": 3
   },
   "file_extension": ".py",
   "mimetype": "text/x-python",
   "name": "python",
   "nbconvert_exporter": "python",
   "pygments_lexer": "ipython3",
   "version": "3.12.7"
  }
 },
 "nbformat": 4,
 "nbformat_minor": 5
}
