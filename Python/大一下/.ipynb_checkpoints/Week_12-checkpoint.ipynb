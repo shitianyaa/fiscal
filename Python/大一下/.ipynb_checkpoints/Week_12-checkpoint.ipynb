{
 "cells": [
  {
   "cell_type": "code",
   "execution_count": 26,
   "id": "763f1405-b45e-4551-9a0b-899f9ea97ed5",
   "metadata": {},
   "outputs": [
    {
     "name": "stdout",
     "output_type": "stream",
     "text": [
      "0\n",
      "[1, 2, 3, 8, 9, 10]\n"
     ]
    }
   ],
   "source": [
    "a=[1,2,3]\n",
    "b=[10,8,9]\n",
    "c=a+b\n",
    "print(len(c[1:6:-2]))##开始在结束的右边或者超出范围无法从起始位置到达结束位置，因此切片结果为空列表 []\n",
    "c.sort(reverse=False) \n",
    "print(c)"
   ]
  },
  {
   "cell_type": "code",
   "execution_count": 18,
   "id": "155433d8-3f84-43cf-8c2f-349b045a256e",
   "metadata": {},
   "outputs": [
    {
     "name": "stdout",
     "output_type": "stream",
     "text": [
      "{1: 'jkb'}\n"
     ]
    }
   ],
   "source": [
    "a={1:\"jkb\",2:2}\n",
    "a.pop(2)\n",
    "print(a)"
   ]
  },
  {
   "cell_type": "code",
   "execution_count": 34,
   "id": "ad55364c-5814-4546-9a39-97b6987a3025",
   "metadata": {},
   "outputs": [
    {
     "name": "stdout",
     "output_type": "stream",
     "text": [
      "F\n"
     ]
    }
   ],
   "source": [
    "print(chr(ord(\"A\")+5))"
   ]
  },
  {
   "cell_type": "code",
   "execution_count": 44,
   "id": "017cd729-51ad-408f-8f2c-5e262617b8be",
   "metadata": {},
   "outputs": [
    {
     "data": {
      "text/plain": [
       "'hello b'"
      ]
     },
     "execution_count": 44,
     "metadata": {},
     "output_type": "execute_result"
    }
   ],
   "source": [
    "def name(a):\n",
    "    return a**3\n",
    "name(3)\n",
    "def happy(b,c='hello'):\n",
    "    return f'{c} {b}'\n",
    "happy('b')"
   ]
  },
  {
   "cell_type": "code",
   "execution_count": null,
   "id": "e1ef5f11-0d0d-40aa-b678-532f36a295a0",
   "metadata": {},
   "outputs": [],
   "source": [
    "lst=[]\n",
    "for n in range(100,1000):\n",
    "    if n//100==n%10 and "
   ]
  },
  {
   "cell_type": "code",
   "execution_count": 46,
   "id": "e79f77a4-ab68-41b8-af95-dda928521cc0",
   "metadata": {},
   "outputs": [
    {
     "data": {
      "text/plain": [
       "3"
      ]
     },
     "execution_count": 46,
     "metadata": {},
     "output_type": "execute_result"
    }
   ],
   "source": [
    "def get_max(x,y,z):\n",
    "    if x>=y and x>=z:\n",
    "        return x\n",
    "    elif y>=x and y>=z:\n",
    "        return y\n",
    "    elif z>=x and z>=y:\n",
    "        return z\n",
    "get_max(1,2,3)\n",
    "##空列表的话默认同一个列表"
   ]
  },
  {
   "cell_type": "code",
   "execution_count": 58,
   "id": "68a5ef78-59c2-48ae-bd2b-e0b6054276f3",
   "metadata": {},
   "outputs": [
    {
     "name": "stdout",
     "output_type": "stream",
     "text": [
      "6\n",
      "6\n"
     ]
    }
   ],
   "source": [
    "##任意量参数\n",
    "a=[1,2,3]\n",
    "b={1:1,2:2,3:3}\n",
    "def qaq(a,b,c):\n",
    "    print(a+b+c)\n",
    "qaq(*a)\n",
    "qaq(*b)"
   ]
  },
  {
   "cell_type": "code",
   "execution_count": 80,
   "id": "31312486-77fe-4ec4-9811-98f0032df93d",
   "metadata": {},
   "outputs": [
    {
     "name": "stdout",
     "output_type": "stream",
     "text": [
      "3\n",
      "3\n"
     ]
    }
   ],
   "source": [
    "def kfc():\n",
    "    global z ##如果有全局变量x就使用它否则就创建一个全局变量\n",
    "    z=3\n",
    "    x=z\n",
    "    return x\n",
    "z=4 ##全局变量\n",
    "x=kfc()\n",
    "print(x)\n",
    "print(z)"
   ]
  },
  {
   "cell_type": "code",
   "execution_count": 86,
   "id": "c754eaf0-2ec4-4ff7-b7f2-971d6182ecb6",
   "metadata": {},
   "outputs": [
    {
     "name": "stdout",
     "output_type": "stream",
     "text": [
      "[0, 12, 1]\n"
     ]
    }
   ],
   "source": [
    "def cf(a):\n",
    "    a[0]=0\n",
    "x=[6,12,1]\n",
    "cf(x)\n",
    "print(x)"
   ]
  },
  {
   "cell_type": "code",
   "execution_count": 88,
   "id": "f17ca566-6589-4a1c-9653-333888fefaf1",
   "metadata": {},
   "outputs": [
    {
     "data": {
      "text/plain": [
       "17"
      ]
     },
     "execution_count": 88,
     "metadata": {},
     "output_type": "execute_result"
    }
   ],
   "source": [
    "f= lambda x ,y,z:x+y+z\n",
    "f(6,2,9)"
   ]
  },
  {
   "cell_type": "code",
   "execution_count": 102,
   "id": "55b1ed79-0265-49a3-98fb-9e4a5144e10c",
   "metadata": {},
   "outputs": [
    {
     "data": {
      "text/plain": [
       "(1.75, 2)"
      ]
     },
     "execution_count": 102,
     "metadata": {},
     "output_type": "execute_result"
    }
   ],
   "source": [
    "\n",
    "def a(*b):\n",
    "    c=[]\n",
    "    c1=sum(b)/len(b)\n",
    "    c.append(c1)\n",
    "    for i in b:\n",
    "        if i>c1:\n",
    "            c.append(i)\n",
    "            return (tuple(c)) ##tuple 转化为元组\n",
    "a(1,2,3,1)\n",
    "    \n",
    "\n"
   ]
  },
  {
   "cell_type": "code",
   "execution_count": null,
   "id": "c8ad459f-8679-4725-aeeb-c3a2746b6b07",
   "metadata": {},
   "outputs": [],
   "source": [
    "def lst(*i,k):\n",
    "    for j in i:\n",
    "        if j>k:\n",
    "            a=[]\n",
    "            a.append[i]\n",
    "            a1=sort(a,reverse=False)\n",
    "        elif j<k:\n",
    "            b=[]\n",
    "            b.append(j)\n",
    "            b1=sort(b,reverse=False)\n",
    "    c.append(a1)\n",
    "    c.append(k)\n",
    "    c.append(b1)\n",
    "    c.sort(reverse=False)\n",
    "    return c\n",
    "lst()\n",
    "            \n",
    "    "
   ]
  },
  {
   "cell_type": "code",
   "execution_count": null,
   "id": "62714bf8-1eaf-4e2e-9aed-5084abe9569d",
   "metadata": {},
   "outputs": [],
   "source": [
    "def a(x,y):\n",
    "    z=x%y"
   ]
  }
 ],
 "metadata": {
  "kernelspec": {
   "display_name": "Python [conda env:base] *",
   "language": "python",
   "name": "conda-base-py"
  },
  "language_info": {
   "codemirror_mode": {
    "name": "ipython",
    "version": 3
   },
   "file_extension": ".py",
   "mimetype": "text/x-python",
   "name": "python",
   "nbconvert_exporter": "python",
   "pygments_lexer": "ipython3",
   "version": "3.12.7"
  }
 },
 "nbformat": 4,
 "nbformat_minor": 5
}
