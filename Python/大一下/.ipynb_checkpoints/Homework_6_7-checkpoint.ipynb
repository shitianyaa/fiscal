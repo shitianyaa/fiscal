{
 "cells": [
  {
   "cell_type": "code",
   "execution_count": 54,
   "id": "10841e09-943c-44d1-b9f4-c9b0f11f0d59",
   "metadata": {},
   "outputs": [
    {
     "name": "stdin",
     "output_type": "stream",
     "text": [
      "请输入年： 2024\n",
      "请输入月： 12\n",
      "请输入日： 31\n"
     ]
    },
    {
     "name": "stdout",
     "output_type": "stream",
     "text": [
      "365.0\n"
     ]
    }
   ],
   "source": [
    "a=int(input(\"请输入年：\"))\n",
    "b=int(input(\"请输入月：\"))\n",
    "c=int(input(\"请输入日：\"))\n",
    "d=[1,3,5,7,8,10,12]\n",
    "e=[2,4,6,9,11]\n",
    "day=0\n",
    "if (a%4==0 and a%100!=0) or a%400==0:\n",
    "    a=a\n",
    "    if b in d and 2<b<=7:\n",
    "        day=(b-1)*31+c-(b-1)/2-1\n",
    "    elif b in d and b==1:\n",
    "        day = c\n",
    "    elif b in d and b>7:\n",
    "        day=29+(b-2)*31-b/2+1+c\n",
    "    elif b in e and b==2:\n",
    "        day=31+c\n",
    "    elif b in e and 2<b<=6:\n",
    "        day=29+(b-2)*30+b/2+c\n",
    "    elif b in e and b>6:\n",
    "        day=29+(b-2)*30+(b-1)/2+1+c\n",
    "if not ((a%4==0 and a%100!=0) or a%400==0):\n",
    "    a=a\n",
    "    if b in d and 2<b<=7:\n",
    "        day=(b-1)*31+c-(b-1)/2-2\n",
    "    elif b in d and b==1:\n",
    "        day = c\n",
    "    elif b in d and b>7:\n",
    "        day=28+(b-2)*31-b/2-1+c\n",
    "    elif b in e and b==2:\n",
    "        day=31+c\n",
    "    elif b in e and 2<b<=6:\n",
    "        day=28+(b-2)*30+b/2+c\n",
    "    elif b in e and b>6:\n",
    "        day=28+(b-2)*30+(b-1)/2+1+c\n",
    "print(day)\n",
    "    \n"
   ]
  },
  {
   "cell_type": "code",
   "execution_count": 48,
   "id": "25296d6a-ff2d-414f-8a49-301821578ddb",
   "metadata": {},
   "outputs": [
    {
     "name": "stdin",
     "output_type": "stream",
     "text": [
      "请输入起始年： 1\n",
      "请输入起始月： 12\n",
      "请输入起始日： 31\n",
      "请输入截至年： 2\n",
      "请输入结束月： 1\n",
      "请输入结束日： 1\n"
     ]
    },
    {
     "name": "stdout",
     "output_type": "stream",
     "text": [
      "4.0\n",
      "3.0\n"
     ]
    }
   ],
   "source": [
    "a=int(input(\"请输入起始年：\"))\n",
    "b=int(input(\"请输入起始月：\"))\n",
    "c=int(input(\"请输入起始日：\"))\n",
    "a_1=int(input(\"请输入截至年：\"))\n",
    "b_1=int(input(\"请输入结束月：\"))\n",
    "c_1=int(input(\"请输入结束日：\"))\n",
    "f=365\n",
    "d=[1,3,5,7,8,10,12]\n",
    "e=[2,4,6,9,11]\n",
    "day=0\n",
    "day_1=0\n",
    "if (a%4==0 and a%100!=0) or a%400==0:\n",
    "    f=366\n",
    "    if b in d and 2<b<=7:\n",
    "        day=(b-1)*31+c-(b-1)/2-1\n",
    "    elif b in d and b==1:\n",
    "        day = c\n",
    "    elif b in d and b>7:\n",
    "        day=29+(b-2)*31-b/2-1+c\n",
    "    elif b in e and b==2:\n",
    "        day=31+c\n",
    "    elif b in e and 2<b<=6:\n",
    "        day=29+(b-2)*30+b/2+c\n",
    "    elif b in e and b>6:\n",
    "        day=29+(b-2)*30+(b-1)/2+1+c\n",
    "if not ((a%4==0 and a%100!=0) or a%400==0):\n",
    "    f=f\n",
    "    if b in d and 2<b<=7:\n",
    "        day=(b-1)*31+c-(b-1)/2-2\n",
    "    elif b in d and b==1:\n",
    "        day = c\n",
    "    elif b in d and b>7:\n",
    "        day=28+(b-2)*31-b/2-1+c\n",
    "    elif b in e and b==2:\n",
    "        day=31+c\n",
    "    elif b in e and 2<b<=6:\n",
    "        day=28+(b-2)*30+b/2+c\n",
    "    elif b in e and b>6:\n",
    "        day=28+(b-2)*30+(b-1)/2+1+c\n",
    "\n",
    "if (a_1%4==0 and a_1%100!=0) or a_1%400==0:\n",
    "    a_1=a_1\n",
    "    if b_1 in d and 2<b_1<=7:\n",
    "        day_1=(b_1-1)*31+c_1-(b_1-1)/2-1\n",
    "    elif b_1 in d and b_1==1:\n",
    "        day_1 = c_1\n",
    "    elif b_1 in d and b_1>7:\n",
    "        day_1=28+(b_1-2)*31-b_1/2-1+c_1\n",
    "    elif b_1 in e and b_1==2:\n",
    "        day_1=31+c_1\n",
    "    elif b_1 in e and 2<b_1<=6:\n",
    "        day_1=29+(b_1-2)*30+b_1/2+c_1\n",
    "    elif b_1 in e and b_1>6:\n",
    "        day_1=29+(b_1-2)*30+(b_1-1)/2+1+c_1\n",
    "if not ((a_1%4==0 and a_1%100!=0) or a_1%400==0):\n",
    "    a_1=a_1\n",
    "    if b_1 in d and 2<b_1<=7:\n",
    "        day_1=(b_1-1)*31+c_1-(b_1-1)/2-2\n",
    "    elif b_1 in d and b_1==1:\n",
    "        day_1 = c_1\n",
    "    elif b_1 in d and b_1>7:\n",
    "        day_1=28+(b_1-2)*31-b_1/2-1+c_1\n",
    "    elif b_1 in e and b_1==2:\n",
    "        day_1=31+c_1\n",
    "    elif b_1 in e and 2<b_1<=6:\n",
    "        day_1=28+(b_1-2)*30+b_1/2+c_1\n",
    "    elif b in e and b>6:\n",
    "        day_1=28+(b_1-2)*30+(b_1-1)/2+1+c_1\n",
    "if a!=a_1:\n",
    "    print(f-day+day_1)\n",
    "print(f-day)\n",
    "    \n"
   ]
  },
  {
   "cell_type": "code",
   "execution_count": 56,
   "id": "1c0fdfe8-9532-4df9-810f-f0630b7e3d25",
   "metadata": {},
   "outputs": [
    {
     "name": "stdin",
     "output_type": "stream",
     "text": [
      "请输入年： 2024\n",
      "请输入月： 12\n",
      "请输入日： 31\n"
     ]
    },
    {
     "name": "stdout",
     "output_type": "stream",
     "text": [
      "366\n"
     ]
    }
   ],
   "source": [
    "a = int(input(\"请输入年：\"))\n",
    "b = int(input(\"请输入月：\"))\n",
    "c = int(input(\"请输入日：\"))\n",
    "d = [1, 3, 5, 7, 8, 10, 12]\n",
    "e = [4, 6, 9, 11]\n",
    "day = 0\n",
    "is_leap = (a % 4 == 0 and a % 100 != 0) or a % 400 == 0\n",
    "for i in range(1, b):\n",
    "    if i in d:\n",
    "        day += 31\n",
    "    elif i in e:\n",
    "        day += 30\n",
    "    elif i == 2:\n",
    "        if is_leap:\n",
    "            day += 29\n",
    "        else:\n",
    "            day += 28\n",
    "day += c\n",
    "print(day)"
   ]
  },
  {
   "cell_type": "code",
   "execution_count": 62,
   "id": "9f6fa416-0786-430f-b578-b5a576360bf9",
   "metadata": {},
   "outputs": [
    {
     "name": "stdin",
     "output_type": "stream",
     "text": [
      "请输入起始年： 2020\n",
      "请输入起始月： 12\n",
      "请输入起始日： 31\n",
      "请输入截至年： 2025\n",
      "请输入结束月： 1\n",
      "请输入结束日： 1\n"
     ]
    },
    {
     "name": "stdout",
     "output_type": "stream",
     "text": [
      "1\n"
     ]
    }
   ],
   "source": [
    "a=int(input(\"请输入起始年：\"))\n",
    "b=int(input(\"请输入起始月：\"))\n",
    "c=int(input(\"请输入起始日：\"))\n",
    "a_1=int(input(\"请输入截至年：\"))\n",
    "b_1=int(input(\"请输入结束月：\"))\n",
    "c_1=int(input(\"请输入结束日：\"))\n",
    "d = [1, 3, 5, 7, 8, 10, 12]\n",
    "e = [4, 6, 9, 11]\n",
    "day = 0\n",
    "is_leap = (a % 4 == 0 and a % 100 != 0) or a % 400 == 0\n",
    "if is_leap:\n",
    "     f=366\n",
    "else:\n",
    "           f=365\n",
    "for i in range(1, b):\n",
    "    if i in d:\n",
    "        day += 31\n",
    "    elif i in e:\n",
    "        day += 30\n",
    "    elif i == 2:\n",
    "        if is_leap:\n",
    "            \n",
    "            day += 29\n",
    "        else:\n",
    "           \n",
    "            day += 28\n",
    "day += c\n",
    "day_1 = 0\n",
    "is_leap_1 = (a_1 % 4 == 0 and a_1 % 100 != 0) or a_1 % 400 == 0\n",
    "for i_1 in range(1, b_1):\n",
    "    if i_1 in d:\n",
    "        day += 31\n",
    "    elif i_1 in e:\n",
    "        day_1 += 30\n",
    "    elif i_1 == 2:\n",
    "        if is_leap_1:\n",
    "            day_1 += 29\n",
    "        else:\n",
    "            day_1 += 28\n",
    "day_1 += c_1\n",
    "if a!=a_1:\n",
    "    day_2=f-day+day_1\n",
    "else:\n",
    "    day_2=day_1-day\n",
    "print(day_2)\n",
    "    \n",
    "    "
   ]
  },
  {
   "cell_type": "code",
   "execution_count": 4,
   "id": "37b567bf-96db-44e1-adba-662d70228db8",
   "metadata": {},
   "outputs": [
    {
     "data": {
      "text/plain": [
       "52"
      ]
     },
     "execution_count": 4,
     "metadata": {},
     "output_type": "execute_result"
    }
   ],
   "source": [
    "astr='ski520'\n",
    "eval(astr[3:-1])"
   ]
  },
  {
   "cell_type": "code",
   "execution_count": 10,
   "id": "689f8084-e48b-41ad-9475-948787ecf9c1",
   "metadata": {},
   "outputs": [
    {
     "name": "stdin",
     "output_type": "stream",
     "text": [
      "输入年月日，用逗号隔开： 2025,1,1\n"
     ]
    },
    {
     "name": "stdout",
     "output_type": "stream",
     "text": [
      "2025年1月1日是这一年的第1天\n"
     ]
    }
   ],
   "source": [
    "year,month,day=eval(input(\"输入年月日，用逗号隔开：\"))\n",
    "month3=[4,6,9,11]\n",
    "days=0\n",
    "for i in range(1,month):\n",
    "    if i==2:\n",
    "        if ((year % 4 == 0 and year % 100 != 0) or year % 400 == 0):\n",
    "            days+=29\n",
    "        else:\n",
    "            days+=28\n",
    "    elif day in month30:\n",
    "        days+=30\n",
    "    else:\n",
    "        days+=31\n",
    "days+=day\n",
    "print(f'{year}年{month}月{day}日是这一年的第{days}天')\n",
    "        \n",
    "        "
   ]
  },
  {
   "cell_type": "code",
   "execution_count": 16,
   "id": "0d2207d9-d06a-4d25-8453-796c021de107",
   "metadata": {},
   "outputs": [
    {
     "name": "stdin",
     "output_type": "stream",
     "text": [
      "输入起始年月日，用逗号隔开： 2025,1,1\n",
      "输入结束年月日，用逗号隔开： 2025,1,2\n"
     ]
    },
    {
     "name": "stdout",
     "output_type": "stream",
     "text": [
      "1\n"
     ]
    }
   ],
   "source": [
    "year1,month1,day1=eval(input(\"输入起始年月日，用逗号隔开：\"))\n",
    "year2,month2,day2=eval(input(\"输入结束年月日，用逗号隔开：\"))\n",
    "days=0\n",
    "for year in range(year1,year2):\n",
    "    if ((year % 4 == 0 and year % 100 != 0) or year % 400 == 0):\n",
    "        days+=366\n",
    "    else:\n",
    "        days+=365\n",
    "days+=day2-day1\n",
    "print(days)"
   ]
  },
  {
   "cell_type": "code",
   "execution_count": 74,
   "id": "a56e7502-ac52-4648-825b-babee9743f36",
   "metadata": {},
   "outputs": [
    {
     "name": "stdout",
     "output_type": "stream",
     "text": [
      "[1, 2, 2, 2, 3]\n"
     ]
    }
   ],
   "source": [
    "a=[1,2,3,2,9]\n",
    "##print(a*2)\n",
    "a[::2]=[1,2,3]\n",
    "print(a)"
   ]
  },
  {
   "cell_type": "code",
   "execution_count": 42,
   "id": "b73a2b02-d0f9-4ed4-8c3c-4a51494ea430",
   "metadata": {},
   "outputs": [
    {
     "name": "stdout",
     "output_type": "stream",
     "text": [
      "[1]\n"
     ]
    }
   ],
   "source": [
    "a = [0, 10, 20, 30, 40, 50]\n",
    "a[::1] = [1]\n",
    "print(a)"
   ]
  },
  {
   "cell_type": "code",
   "execution_count": 46,
   "id": "34ed07d7-1dd6-433a-82ac-5821d53e8964",
   "metadata": {},
   "outputs": [
    {
     "name": "stdout",
     "output_type": "stream",
     "text": [
      "[12, 13, 14, 2, 3, 4, 5, 6]\n"
     ]
    }
   ],
   "source": [
    "a=[1,2,3,4,5,6]\n",
    "a[0:1]=[12,13,14]\n",
    "print(a)"
   ]
  },
  {
   "cell_type": "code",
   "execution_count": 66,
   "id": "ae6df669-04ae-42f0-828e-daff2ed02e32",
   "metadata": {},
   "outputs": [
    {
     "name": "stdout",
     "output_type": "stream",
     "text": [
      "[1, 2, 1, 2]\n"
     ]
    }
   ],
   "source": [
    "a=[1,2]\n",
    "a+=[1,2]\n",
    "print(a)"
   ]
  },
  {
   "cell_type": "code",
   "execution_count": 102,
   "id": "9f9b53b6-2bce-4587-958d-7219287b2c8b",
   "metadata": {},
   "outputs": [
    {
     "name": "stdout",
     "output_type": "stream",
     "text": [
      "None\n",
      "[4, 3, 2, 1]\n"
     ]
    }
   ],
   "source": [
    "lst=[1,2,3,4]\n",
    "print(lst.sort())\n",
    "print(list(reversed(lst)))\n"
   ]
  },
  {
   "cell_type": "code",
   "execution_count": 104,
   "id": "4cc7b726-b4da-4fdc-8aa8-4d6806b0c00a",
   "metadata": {},
   "outputs": [
    {
     "name": "stdout",
     "output_type": "stream",
     "text": [
      "[1, 1, 1, 1]\n"
     ]
    }
   ],
   "source": [
    "a=[1,1]\n",
    "print(a*2)"
   ]
  }
 ],
 "metadata": {
  "kernelspec": {
   "display_name": "Python [conda env:base] *",
   "language": "python",
   "name": "conda-base-py"
  },
  "language_info": {
   "codemirror_mode": {
    "name": "ipython",
    "version": 3
   },
   "file_extension": ".py",
   "mimetype": "text/x-python",
   "name": "python",
   "nbconvert_exporter": "python",
   "pygments_lexer": "ipython3",
   "version": "3.12.7"
  }
 },
 "nbformat": 4,
 "nbformat_minor": 5
}
