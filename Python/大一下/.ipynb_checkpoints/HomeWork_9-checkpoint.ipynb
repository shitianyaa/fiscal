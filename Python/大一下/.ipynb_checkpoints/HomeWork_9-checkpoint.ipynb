{
 "cells": [
  {
   "cell_type": "code",
   "execution_count": 4,
   "id": "9fe20b09-926e-434a-9d1f-702ea81c7c3e",
   "metadata": {},
   "outputs": [
    {
     "name": "stdin",
     "output_type": "stream",
     "text": [
      " hello xiaomi\n"
     ]
    },
    {
     "name": "stdout",
     "output_type": "stream",
     "text": [
      "xiaomi hello\n"
     ]
    }
   ],
   "source": [
    "a=input()\n",
    "word=a.split()##按空格切片\n",
    "word.reverse()##反转\n",
    "word_1=\" \".join(word)\n",
    "print(word_1)"
   ]
  },
  {
   "cell_type": "code",
   "execution_count": 6,
   "id": "b0a3e5ef-d683-4919-9b61-6dfdea831d60",
   "metadata": {},
   "outputs": [
    {
     "name": "stdin",
     "output_type": "stream",
     "text": [
      " 搜扫 交接班\n"
     ]
    },
    {
     "name": "stdout",
     "output_type": "stream",
     "text": [
      "班接交 扫搜\n"
     ]
    }
   ],
   "source": [
    "s = input().strip()\n",
    "reversed_s = s[::-1]\n",
    "print(reversed_s)"
   ]
  },
  {
   "cell_type": "code",
   "execution_count": 10,
   "id": "4a329c29-74b6-4c34-9ca8-fe21dee2ac33",
   "metadata": {},
   "outputs": [
    {
     "name": "stdin",
     "output_type": "stream",
     "text": [
      " hsbs lnfs\n",
      " hs\n"
     ]
    },
    {
     "name": "stdout",
     "output_type": "stream",
     "text": [
      "b lnf\n"
     ]
    }
   ],
   "source": [
    "a=input()\n",
    "b=input()\n",
    "c=\"\"\n",
    "for i in a:\n",
    "    if i not in b:\n",
    "        c+=i\n",
    "print(c)\n",
    "        "
   ]
  },
  {
   "cell_type": "code",
   "execution_count": 48,
   "id": "9a3dc3d0-d0b0-41b0-8e2d-e67f41526d12",
   "metadata": {},
   "outputs": [
    {
     "name": "stdin",
     "output_type": "stream",
     "text": [
      " AVKIGIDBa\n"
     ]
    },
    {
     "name": "stdout",
     "output_type": "stream",
     "text": [
      "DISLIKE\n"
     ]
    }
   ],
   "source": [
    "a=input()\n",
    "q=False\n",
    "w=False\n",
    "\n",
    "for i in range(0,len(a)-1):\n",
    "    if a[i]==a[i+1]:\n",
    "        q=False\n",
    "for i in range(0,len(a)):\n",
    "    if not a[i].isupper():\n",
    "        w=False\n",
    "if not q and  w:\n",
    "    print(\"LIKE\")\n",
    "else:\n",
    "    print(\"DISLIKE\")"
   ]
  },
  {
   "cell_type": "code",
   "execution_count": 12,
   "id": "7367d58c-2105-4600-9e22-28b381445a2e",
   "metadata": {},
   "outputs": [
    {
     "name": "stdin",
     "output_type": "stream",
     "text": [
      " 123\n"
     ]
    },
    {
     "name": "stdout",
     "output_type": "stream",
     "text": [
      "1\n"
     ]
    }
   ],
   "source": [
    "a=input()\n",
    "print(a[0])"
   ]
  },
  {
   "cell_type": "code",
   "execution_count": 54,
   "id": "082d76f8-1060-4e75-8a23-4ca60242738d",
   "metadata": {},
   "outputs": [
    {
     "name": "stdin",
     "output_type": "stream",
     "text": [
      " ABOOjnlsvAAA\n"
     ]
    },
    {
     "name": "stdout",
     "output_type": "stream",
     "text": [
      "ABOOAA\n"
     ]
    }
   ],
   "source": [
    "words=input()\n",
    "a=\"\"\n",
    "for i in range(0,len(words)-1):\n",
    "    if words[i].isupper():\n",
    "        a+=words[i]\n",
    "print(a)"
   ]
  },
  {
   "cell_type": "code",
   "execution_count": 60,
   "id": "a24188cf-865f-461d-a9f2-07350baf5cd4",
   "metadata": {},
   "outputs": [
    {
     "name": "stdout",
     "output_type": "stream",
     "text": [
      "上交大\n",
      "上交大\n"
     ]
    }
   ],
   "source": [
    "s='上海交通大学'##字符串中切片出子串'上交大'\n",
    "print(s[:-1:2])\n",
    "print(s[::2])"
   ]
  },
  {
   "cell_type": "code",
   "execution_count": 64,
   "id": "5be58fb7-2154-47bc-af6c-79b4dc045090",
   "metadata": {},
   "outputs": [
    {
     "name": "stdout",
     "output_type": "stream",
     "text": [
      "湖南人辣不怕\n"
     ]
    }
   ],
   "source": [
    "string='Hello_World'\n",
    "string[:-6]*2 \n",
    "s1=\"湖南人\"\n",
    "s2=\"不怕\"\n",
    "s3=\"辣\"\n",
    "print(\"{0}{2}{1}\".format(s1,s2,s3))"
   ]
  },
  {
   "cell_type": "code",
   "execution_count": 78,
   "id": "ed2d68c6-4186-4cb3-87c8-01fe3de6c05b",
   "metadata": {},
   "outputs": [
    {
     "name": "stdout",
     "output_type": "stream",
     "text": [
      "袋鼠生活在主要由母袋鼠和小袋鼠组成的较小的群体里。\n"
     ]
    }
   ],
   "source": [
    "5 in (10,[5,4])##false\n",
    "s1 =\"袋鼠\"\n",
    "print(\"{0}生活在主要由母{0}和小{0}组成的较小的群体里。\".format(s1))"
   ]
  },
  {
   "cell_type": "code",
   "execution_count": 84,
   "id": "36304832-b65a-4fac-8808-4d74bc59e965",
   "metadata": {},
   "outputs": [
    {
     "name": "stdout",
     "output_type": "stream",
     "text": [
      "yhn用\n"
     ]
    }
   ],
   "source": [
    "s=\"Python应用基础\"[1:-1:2]\n",
    "print(s)"
   ]
  }
 ],
 "metadata": {
  "kernelspec": {
   "display_name": "Python [conda env:base] *",
   "language": "python",
   "name": "conda-base-py"
  },
  "language_info": {
   "codemirror_mode": {
    "name": "ipython",
    "version": 3
   },
   "file_extension": ".py",
   "mimetype": "text/x-python",
   "name": "python",
   "nbconvert_exporter": "python",
   "pygments_lexer": "ipython3",
   "version": "3.12.7"
  }
 },
 "nbformat": 4,
 "nbformat_minor": 5
}
