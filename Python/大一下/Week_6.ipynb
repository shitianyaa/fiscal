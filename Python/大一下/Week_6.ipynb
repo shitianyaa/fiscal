{
 "cells": [
  {
   "cell_type": "code",
   "execution_count": 10,
   "id": "dbf22aeb-4fac-4c5d-ad16-85365fc45f52",
   "metadata": {},
   "outputs": [
    {
     "name": "stdout",
     "output_type": "stream",
     "text": [
      "False\n"
     ]
    }
   ],
   "source": [
    "m=16\n",
    "k_f=False\n",
    "for k in range(2,m//2+1):\n",
    "    for i in range(2,k):\n",
    "        if k%2==0:\n",
    "            break\n",
    "    else:\n",
    "           k_f=True\n",
    "    mk_f=False\n",
    "    for i in range(2,m-k):\n",
    "        if (m-k)%2==0:\n",
    "            break\n",
    "    else:\n",
    "           mk_f=True\n",
    "print(mk_f)\n",
    "    "
   ]
  },
  {
   "cell_type": "code",
   "execution_count": 12,
   "id": "def98718-55fb-460e-9240-ada61a1515f3",
   "metadata": {},
   "outputs": [
    {
     "name": "stdout",
     "output_type": "stream",
     "text": [
      "['张三', '李四']\n"
     ]
    }
   ],
   "source": [
    "students = [\"张三\",\"李四\"]\n",
    "if \"张三\" in students"
   ]
  },
  {
   "cell_type": "code",
   "execution_count": 52,
   "id": "79b877d4-36d7-4aaf-be4f-ee26b36f0bc6",
   "metadata": {},
   "outputs": [
    {
     "name": "stdout",
     "output_type": "stream",
     "text": [
      "[2, 3, [6, 7], 6, 7]\n"
     ]
    }
   ],
   "source": [
    "names = [1, 2, 3]\n",
    "# 向列表末尾添加一个新元素 [6, 7]，[6, 7] 会作为一个整体添加到列表中\n",
    "names.append([6, 7])\n",
    "# 在列表的索引 0 位置插入元素 0\n",
    "names.insert(0, 0)\n",
    "# 将列表 [6, 7] 中的元素逐个添加到 names 列表的末尾\n",
    "names.extend([6, 7])\n",
    "# 移除并返回列表的最后一个元素\n",
    "popped = names.pop(0)\n",
    "# 删除列表中索引为 0 的元素\n",
    "del names[0]\n",
    "print(names)"
   ]
  },
  {
   "cell_type": "code",
   "execution_count": 46,
   "id": "35dcb9ec-77e4-4b52-8534-26d5b24f7446",
   "metadata": {},
   "outputs": [
    {
     "name": "stdout",
     "output_type": "stream",
     "text": [
      "[2, 3, [6, 7], 'f']\n"
     ]
    }
   ],
   "source": [
    "names[3]='f'\n",
    "print(names)"
   ]
  },
  {
   "cell_type": "code",
   "execution_count": 78,
   "id": "aa0d03da-9819-4585-9dbe-ea2b91872bc2",
   "metadata": {},
   "outputs": [
    {
     "name": "stdout",
     "output_type": "stream",
     "text": [
      "4\n",
      "apple\n",
      "cherry\n",
      "pear\n"
     ]
    }
   ],
   "source": [
    "goods=['apple','banana','cherry']\n",
    "goods.extend(['grape','orange'])\n",
    "if 'orange' in goods:\n",
    "    index=goods.index('orange')\n",
    "    print(index)\n",
    "del goods[4]\n",
    "del goods[1]\n",
    "goods[2]='pear'\n",
    "for a in goods:\n",
    "    print(a)"
   ]
  },
  {
   "cell_type": "code",
   "execution_count": 98,
   "id": "0f1aaaa0-c669-469a-86ff-a539466cb5a4",
   "metadata": {},
   "outputs": [
    {
     "name": "stdout",
     "output_type": "stream",
     "text": [
      "[1, 2, 3, 4, 5, 6, 7, 8, 9, 10]\n",
      "[9, 8, 7, 6, 5, 4]\n",
      "[2, 1]\n"
     ]
    }
   ],
   "source": [
    "nums=list(range(1,11))\n",
    "print(nums[0:10:1])\n",
    "print(nums[8:2:-1])\n",
    "nums[::1]=[2,1]\n",
    "print(nums)\n"
   ]
  },
  {
   "cell_type": "code",
   "execution_count": 117,
   "id": "e61a1673-05d5-4b1f-8811-65d8d21ef518",
   "metadata": {},
   "outputs": [
    {
     "data": {
      "text/plain": [
       "3"
      ]
     },
     "execution_count": 117,
     "metadata": {},
     "output_type": "execute_result"
    }
   ],
   "source": [
    "nums=[1,2,3,3]\n",
    "#nums.count(3)\n",
    "nums.index(3,3) ##找3从第二位开始"
   ]
  },
  {
   "cell_type": "code",
   "execution_count": 125,
   "id": "08fe0022-1a8c-4750-9249-be62051fd007",
   "metadata": {},
   "outputs": [
    {
     "name": "stdout",
     "output_type": "stream",
     "text": [
      "[0, 4, 16]\n"
     ]
    }
   ],
   "source": [
    "s = [x**2  for x in range (5) if x%2==0]\n",
    "print(s)"
   ]
  },
  {
   "cell_type": "code",
   "execution_count": 215,
   "id": "b355b3f6-c8ec-4299-9b64-f169f6401457",
   "metadata": {},
   "outputs": [
    {
     "name": "stdout",
     "output_type": "stream",
     "text": [
      "[85, 10, 46, 69, 4, 7, 19, 85, 46, 53, 86, 89, 19, 73, 63, 46, 67, 80, 57, 84, 8, 7, 47, 83, 44, 88, 94, 78, 49, 10, 69, 91, 87, 32, 24, 83, 35, 10, 38, 94, 36, 80]\n",
      "29.49892384370162\n"
     ]
    }
   ],
   "source": [
    "import random as rd\n",
    "a=rd.randint(3,100)\n",
    "lst_1=[]\n",
    "n=rd.randint(3,101)\n",
    "\n",
    "for i in range (1,n+1):\n",
    "    a=rd.randint(3,100)\n",
    "    lst_1.append(a)\n",
    "print(lst_1)\n",
    "sum(lst_1)\n",
    "s_1=sum(lst_1)/n\n",
    "\n",
    "lst_2=[]\n",
    "for i in lst_1:\n",
    "    i=i-s_1\n",
    "    lst_2.append(i**2)\n",
    "sum(lst_2)\n",
    "s_2=(sum(lst_2)/n)**0.5\n",
    "\n",
    "print(s_2)\n",
    "    \n",
    "    \n",
    "\n"
   ]
  },
  {
   "cell_type": "code",
   "execution_count": 217,
   "id": "4b1345d3-f1c8-4eb8-aa6a-5ab46bf06e05",
   "metadata": {},
   "outputs": [
    {
     "name": "stdout",
     "output_type": "stream",
     "text": [
      "('A',)\n",
      "a\n"
     ]
    }
   ],
   "source": [
    "c=(\"A\",)\n",
    "B=(\"a\")\n",
    "print(c)\n",
    "print(B)"
   ]
  }
 ],
 "metadata": {
  "kernelspec": {
   "display_name": "Python [conda env:base] *",
   "language": "python",
   "name": "conda-base-py"
  },
  "language_info": {
   "codemirror_mode": {
    "name": "ipython",
    "version": 3
   },
   "file_extension": ".py",
   "mimetype": "text/x-python",
   "name": "python",
   "nbconvert_exporter": "python",
   "pygments_lexer": "ipython3",
   "version": "3.12.7"
  }
 },
 "nbformat": 4,
 "nbformat_minor": 5
}
