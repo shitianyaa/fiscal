{
 "cells": [
  {
   "cell_type": "code",
   "execution_count": 12,
   "id": "7a3ec2f2-40a4-4a59-94e0-f9260d8e19a6",
   "metadata": {
    "scrolled": true
   },
   "outputs": [
    {
     "name": "stdout",
     "output_type": "stream",
     "text": [
      "354224848179261915075\n"
     ]
    }
   ],
   "source": [
    "a=1\n",
    "b=1\n",
    "k=0\n",
    "while k<98:\n",
    "    c=a+b\n",
    "    a=b\n",
    "    b=c\n",
    "    k=k+1\n",
    "\n",
    "print(c)\n"
   ]
  },
  {
   "cell_type": "code",
   "execution_count": 15,
   "id": "7d627756-a8c4-4013-afac-306d8da6ced7",
   "metadata": {},
   "outputs": [
    {
     "name": "stdout",
     "output_type": "stream",
     "text": [
      "18\n"
     ]
    }
   ],
   "source": [
    "print(68130//3600)"
   ]
  },
  {
   "cell_type": "code",
   "execution_count": 11,
   "id": "aea71762-6d5b-4a2c-b34a-c5d58e51c60d",
   "metadata": {},
   "outputs": [
    {
     "name": "stdout",
     "output_type": "stream",
     "text": [
      "47\n",
      "21.139999999999986\n"
     ]
    }
   ],
   "source": [
    "print((7200+21325)//600)  ##抽卡资源（单位：抽）\n",
    "print(593.43-28.8-543.49)"
   ]
  },
  {
   "cell_type": "code",
   "execution_count": 21,
   "id": "00c4d1d1-d0d5-476d-8f90-685302faa7d5",
   "metadata": {},
   "outputs": [
    {
     "name": "stdout",
     "output_type": "stream",
     "text": [
      "6\n"
     ]
    }
   ],
   "source": [
    "a=3\n",
    "a+=3\n",
    "print(a)"
   ]
  },
  {
   "cell_type": "code",
   "execution_count": null,
   "id": "f63aff0f-f352-483d-b91d-2e0fbcc0b973",
   "metadata": {},
   "outputs": [],
   "source": []
  },
  {
   "cell_type": "code",
   "execution_count": null,
   "id": "d5d6b322-ffe0-44c8-8268-a5c5a4796d0c",
   "metadata": {},
   "outputs": [],
   "source": []
  }
 ],
 "metadata": {
  "kernelspec": {
   "display_name": "Python [conda env:base] *",
   "language": "python",
   "name": "conda-base-py"
  },
  "language_info": {
   "codemirror_mode": {
    "name": "ipython",
    "version": 3
   },
   "file_extension": ".py",
   "mimetype": "text/x-python",
   "name": "python",
   "nbconvert_exporter": "python",
   "pygments_lexer": "ipython3",
   "version": "3.12.7"
  }
 },
 "nbformat": 4,
 "nbformat_minor": 5
}
