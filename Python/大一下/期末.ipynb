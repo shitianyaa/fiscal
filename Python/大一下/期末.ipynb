{
 "cells": [
  {
   "cell_type": "code",
   "execution_count": 1,
   "id": "8f281d7b-be8a-4836-9f06-50cd788801a7",
   "metadata": {},
   "outputs": [
    {
     "data": {
      "text/plain": [
       "8"
      ]
     },
     "execution_count": 1,
     "metadata": {},
     "output_type": "execute_result"
    }
   ],
   "source": [
    "ls=[[2,3,3],[4,5,6],[7,8,9]]\n",
    "ls[-1][1]"
   ]
  },
  {
   "cell_type": "code",
   "execution_count": 5,
   "id": "cc66169d-af26-4e61-9a45-d6407255613f",
   "metadata": {},
   "outputs": [
    {
     "name": "stdout",
     "output_type": "stream",
     "text": [
      "2357"
     ]
    }
   ],
   "source": [
    "for num in range(2,10):\n",
    "\tif num > 1:\n",
    "\t\tfor i in range(2,num):\n",
    "\t\t\tif (num % i) == 0:\n",
    "\t\t\t\tbreak\n",
    "\t\telse:\n",
    "\t\t\tprint(num,end=\"\")"
   ]
  },
  {
   "cell_type": "code",
   "execution_count": 21,
   "id": "4ed08333-3e85-44b4-bbf6-9a586e7e008a",
   "metadata": {},
   "outputs": [
    {
     "name": "stdout",
     "output_type": "stream",
     "text": [
      "0\n",
      "1\n"
     ]
    }
   ],
   "source": [
    "for i in range(2):\n",
    "    print(i)"
   ]
  },
  {
   "cell_type": "code",
   "execution_count": 25,
   "id": "e8ee5e72-04cf-45ef-b1de-4a56f6b015ae",
   "metadata": {},
   "outputs": [
    {
     "name": "stdin",
     "output_type": "stream",
     "text": [
      " 20\n"
     ]
    },
    {
     "data": {
      "text/plain": [
       "[19, 87, 55, 96, 21, 34, 99]"
      ]
     },
     "execution_count": 25,
     "metadata": {},
     "output_type": "execute_result"
    }
   ],
   "source": [
    "def MediaSort(a):\n",
    "    b=[]\n",
    "    c=[]\n",
    "    ls=[87,55,96,21,34,19,99]\n",
    "  \n",
    "    for i in ls:\n",
    "        if i <= m:\n",
    "            b.append(i)\n",
    "        else:\n",
    "            c.append(i)\n",
    "    d=b+c\n",
    "    return d\n",
    "m=int(input())\n",
    "MediaSort(m)"
   ]
  },
  {
   "cell_type": "code",
   "execution_count": 87,
   "id": "2cead3d2-b1a1-4eab-94c4-37dd4eb09336",
   "metadata": {},
   "outputs": [
    {
     "name": "stdout",
     "output_type": "stream",
     "text": [
      "201:数学\n",
      "202:语文\n",
      "203:英语\n",
      "204:物理\n",
      "[2, 2, 3]:1\n",
      "205:化学\n"
     ]
    }
   ],
   "source": [
    "d={\"数学\":101,\"语文\":202,\"英语\":203,\"物理\":204,\"生物\":206,1:[1,2,3]}\n",
    "d[\"化学\"]=205\n",
    "d[\"数学\"]=201\n",
    "d[1][0]=2\n",
    "del d[\"生物\"]\n",
    "for i in d:\n",
    "    print(f\"{d[i]}:{i}\")"
   ]
  },
  {
   "cell_type": "code",
   "execution_count": 59,
   "id": "f8c21e9f-ecda-42f1-ae0d-7f953e83601d",
   "metadata": {},
   "outputs": [
    {
     "name": "stdout",
     "output_type": "stream",
     "text": [
      "201:数学\n",
      "202:语文\n",
      "203:英语\n",
      "204:物理\n",
      "205:化学\n"
     ]
    }
   ],
   "source": [
    "\n",
    "# 1) 建立字典\n",
    "d = {\"数学\": 101, \"语文\": 202, \"英语\": 203, \"物理\": 204, \"生物\": 206}\n",
    "# 2) 添加键值对\n",
    "d[\"化学\"] = 205\n",
    "# 3) 修改值\n",
    "d[\"数学\"] = 201\n",
    "# 4) 删除键值对\n",
    "del d[\"生物\"]\n",
    "# 5) 显示信息\n",
    "for subject in d:\n",
    "    print(f\"{d[subject]}:{subject}\")"
   ]
  },
  {
   "cell_type": "code",
   "execution_count": 65,
   "id": "dca3ee5f-1726-44a8-8ed8-e711f2cc6c0a",
   "metadata": {},
   "outputs": [
    {
     "name": "stdout",
     "output_type": "stream",
     "text": [
      "d"
     ]
    }
   ],
   "source": [
    "for s in \"HelloWorld\":\n",
    "    if s=='W':\n",
    "        continue\n",
    "print(s,end='')"
   ]
  },
  {
   "cell_type": "code",
   "execution_count": 69,
   "id": "3795cc10-7ba0-431f-ad04-01ba33c4fe06",
   "metadata": {},
   "outputs": [],
   "source": [
    "f = open(\"a.txt\", \"w\")\n",
    "ls = ['test','12','201910','20']\n",
    "for ss in ls:\n",
    "    f.write(ss)\n",
    "f.close()"
   ]
  },
  {
   "cell_type": "code",
   "execution_count": 83,
   "id": "c4986ff0-8222-45eb-aa6e-0e6dd242110b",
   "metadata": {},
   "outputs": [
    {
     "name": "stdout",
     "output_type": "stream",
     "text": [
      "<class 'list'>\n",
      "666 law adg\n"
     ]
    }
   ],
   "source": [
    "a=\"adg law 666\"\n",
    "word=a.split()\n",
    "word.reverse()\n",
    "print(type(word))\n",
    "b=\" \".join(word)\n",
    "print(b)"
   ]
  }
 ],
 "metadata": {
  "kernelspec": {
   "display_name": "Python [conda env:base] *",
   "language": "python",
   "name": "conda-base-py"
  },
  "language_info": {
   "codemirror_mode": {
    "name": "ipython",
    "version": 3
   },
   "file_extension": ".py",
   "mimetype": "text/x-python",
   "name": "python",
   "nbconvert_exporter": "python",
   "pygments_lexer": "ipython3",
   "version": "3.12.7"
  }
 },
 "nbformat": 4,
 "nbformat_minor": 5
}
