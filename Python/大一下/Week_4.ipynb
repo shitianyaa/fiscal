{
 "cells": [
  {
   "cell_type": "code",
   "execution_count": 2,
   "id": "459517e8-3a4e-4786-af1e-27220e27ab2b",
   "metadata": {},
   "outputs": [
    {
     "name": "stdout",
     "output_type": "stream",
     "text": [
      "0\n",
      "1\n"
     ]
    }
   ],
   "source": [
    "k=0\n",
    "if k<3:\n",
    "    print(k)\n",
    "    k=k+1\n",
    "print(k)"
   ]
  },
  {
   "cell_type": "code",
   "execution_count": 15,
   "id": "f219d8db-554d-4601-87d6-e98b8156358c",
   "metadata": {},
   "outputs": [
    {
     "name": "stdout",
     "output_type": "stream",
     "text": [
      "0\n",
      "1\n",
      "2\n",
      "3\n"
     ]
    }
   ],
   "source": [
    "k=0\n",
    "while k<3:\n",
    "    print(k)\n",
    "    k=k+1\n",
    "print(k) ##k=3时不属于while循环直接打印3 属于循环外面的"
   ]
  },
  {
   "cell_type": "code",
   "execution_count": 25,
   "id": "2a03015e-310e-48f3-9ec2-664b27c290c8",
   "metadata": {},
   "outputs": [
    {
     "name": "stdout",
     "output_type": "stream",
     "text": [
      "1\n"
     ]
    }
   ],
   "source": [
    "a=1\n",
    "if a==1:\n",
    "    b=2\n",
    "if a<=1:\n",
    "  b=1\n",
    "print(b)  ##最后一次覆盖掉了"
   ]
  },
  {
   "cell_type": "code",
   "execution_count": 47,
   "id": "932bbe16-5e26-4b28-8145-a4e42beabb1d",
   "metadata": {},
   "outputs": [
    {
     "name": "stdout",
     "output_type": "stream",
     "text": [
      "1x1=1\t\n",
      "2x1=2\t2x2=4\t\n",
      "3x1=3\t3x2=6\t3x3=9\t\n",
      "4x1=4\t4x2=8\t4x3=12\t4x4=16\t\n",
      "5x1=5\t5x2=10\t5x3=15\t5x4=20\t5x5=25\t\n",
      "6x1=6\t6x2=12\t6x3=18\t6x4=24\t6x5=30\t6x6=36\t\n",
      "7x1=7\t7x2=14\t7x3=21\t7x4=28\t7x5=35\t7x6=42\t7x7=49\t\n",
      "8x1=8\t8x2=16\t8x3=24\t8x4=32\t8x5=40\t8x6=48\t8x7=56\t8x8=64\t\n",
      "9x1=9\t9x2=18\t9x3=27\t9x4=36\t9x5=45\t9x6=54\t9x7=63\t9x8=72\t9x9=81\t\n"
     ]
    }
   ],
   "source": [
    "for a in range(1,10):\n",
    "    for b in range(1,a+1):\n",
    "        print(f\"{a}x{b}={a*b}\",end=\"\\t\")\n",
    "    print()\n",
    "        "
   ]
  },
  {
   "cell_type": "code",
   "execution_count": 17,
   "id": "a827f64c-98fb-468d-8677-407907b1187f",
   "metadata": {},
   "outputs": [
    {
     "name": "stdout",
     "output_type": "stream",
     "text": [
      "1.4992503748125936\n"
     ]
    }
   ],
   "source": [
    "a=1000\n",
    "b=667\n",
    "print(a/b) ##2.89\n"
   ]
  },
  {
   "cell_type": "code",
   "execution_count": 75,
   "id": "49ec1670-8230-4622-a8e3-d776feb1be5c",
   "metadata": {},
   "outputs": [
    {
     "name": "stdout",
     "output_type": "stream",
     "text": [
      "[1, 3, 5, 7, 9]\n",
      "1\n",
      "3\n",
      "5\n",
      "7\n",
      "9\n",
      "0\n",
      "1\n",
      "2\n",
      "3\n",
      "4\n"
     ]
    }
   ],
   "source": [
    "a=list(range(1,10,2))  ##列表\n",
    "print(a)\n",
    "for a in range (1,10,2):\n",
    "    print(a)\n",
    "for a in range(5):\n",
    "    print(a)"
   ]
  },
  {
   "cell_type": "code",
   "execution_count": 93,
   "id": "2ab217d8-5b02-4896-8880-d3d9577c1907",
   "metadata": {},
   "outputs": [],
   "source": [
    "for a in range(4):\n",
    "    if a<=3:\n",
    "        a+=1\n",
    "        break\n",
    "        \n",
    "else:\n",
    "    print(\"&&\")"
   ]
  },
  {
   "cell_type": "code",
   "execution_count": 101,
   "id": "bc234e26-7fa4-4d25-86a6-7db5068eca04",
   "metadata": {},
   "outputs": [
    {
     "name": "stdout",
     "output_type": "stream",
     "text": [
      "0\n"
     ]
    }
   ],
   "source": [
    "for i in range(5):\n",
    "    print(i)\n",
    "    break\n",
    "    print(i)"
   ]
  },
  {
   "cell_type": "code",
   "execution_count": 109,
   "id": "8150ec93-36f2-4569-be90-868afe8c6062",
   "metadata": {},
   "outputs": [
    {
     "name": "stdout",
     "output_type": "stream",
     "text": [
      "1 5 3 3|"
     ]
    }
   ],
   "source": [
    "str=\"Echijs*&%156\"\n",
    "upper=0\n",
    "lower=0\n",
    "num=0\n",
    "other=0\n",
    "for a in str:\n",
    "    if \"A\"<=a<=\"Z\":\n",
    "        upper+=1\n",
    "    elif \"a\"<=a<=\"z\":\n",
    "        lower+=1\n",
    "    elif \"0\"<=a<=\"9\":\n",
    "        num+=1\n",
    "    else:\n",
    "        other+=1\n",
    "print(upper,lower,num,other)\n"
   ]
  },
  {
   "cell_type": "code",
   "execution_count": 309,
   "id": "9df58d16-ad49-470c-a648-b988fda09fab",
   "metadata": {},
   "outputs": [
    {
     "name": "stdout",
     "output_type": "stream",
     "text": [
      "**\t\n",
      "**\t**\t\n",
      "**\t**\t**\t\n",
      "**\t**\t**\t**\t\n",
      "**\t**\t**\t**\t**\t\n",
      "**\t**\t**\t**\t**\t**\t\n",
      "**\t**\t**\t**\t**\t**\t**\t\n",
      "**\t**\t**\t**\t**\t**\t**\t**\t\n",
      "**\t**\t**\t**\t**\t**\t**\t**\t**\t\n",
      "**\t**\t**\t**\t**\t**\t**\t**\t**\t\n",
      "**\t**\t**\t**\t**\t**\t**\t**\t\n",
      "**\t**\t**\t**\t**\t**\t**\t\n",
      "**\t**\t**\t**\t**\t**\t\n",
      "**\t**\t**\t**\t**\t\n",
      "**\t**\t**\t**\t\n",
      "**\t**\t**\t\n",
      "**\t**\t\n",
      "**\t\n"
     ]
    }
   ],
   "source": [
    "for i in range(1,10):\n",
    "    for k in range(1,i+1):\n",
    "        print(\"**\",end=\"\\t\")\n",
    "    print()\n",
    "    \n",
    "for i in range(1,10):\n",
    "    for k in range(i,10):\n",
    "         print(\"**\",end=\"\\t\")\n",
    "    print()\n",
    "    \n"
   ]
  },
  {
   "cell_type": "code",
   "execution_count": 165,
   "id": "d6b147cb-9ed0-427d-9821-8b122af70874",
   "metadata": {},
   "outputs": [
    {
     "name": "stdout",
     "output_type": "stream",
     "text": [
      "3.14159\n",
      "99\n",
      "35\n"
     ]
    }
   ],
   "source": [
    "a=round(3.1415926,5)\n",
    "print(a)\n",
    "b=max(1,99)\n",
    "print(b)\n",
    "c=sum(range(2,9))\n",
    "print(c)"
   ]
  },
  {
   "cell_type": "code",
   "execution_count": 24,
   "id": "e9ccb516-4683-4ff9-8df9-29597fc2058e",
   "metadata": {},
   "outputs": [
    {
     "data": {
      "text/plain": [
       "5"
      ]
     },
     "execution_count": 24,
     "metadata": {},
     "output_type": "execute_result"
    }
   ],
   "source": [
    "import random as r \n",
    "from random import randint as rt \n",
    "import math as m\n",
    "m.sin(1)\n",
    "r.randint(1,10) ##两边都可以取到"
   ]
  }
 ],
 "metadata": {
  "kernelspec": {
   "display_name": "Python [conda env:base] *",
   "language": "python",
   "name": "conda-base-py"
  },
  "language_info": {
   "codemirror_mode": {
    "name": "ipython",
    "version": 3
   },
   "file_extension": ".py",
   "mimetype": "text/x-python",
   "name": "python",
   "nbconvert_exporter": "python",
   "pygments_lexer": "ipython3",
   "version": "3.12.7"
  }
 },
 "nbformat": 4,
 "nbformat_minor": 5
}
