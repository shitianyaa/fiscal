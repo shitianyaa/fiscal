{
 "cells": [
  {
   "cell_type": "code",
   "execution_count": 26,
   "id": "f7cb30aa-3898-420e-8216-ec707484299f",
   "metadata": {},
   "outputs": [
    {
     "name": "stdout",
     "output_type": "stream",
     "text": [
      "<class 'list'>\n",
      "['怒发冲冠，凭栏处、潇潇雨歇。抬望眼，仰天长啸，壮怀激烈。', '三十功名尘与土，八千里路云和月。莫等闲，白了少年头，空悲切！', '靖康耻，犹未雪。臣子恨，何时灭！驾长车，踏破贺兰山缺。', '壮志饥餐胡虏肉，笑谈渴饮匈奴血。待从头、收拾旧山河，朝天阙。']\n"
     ]
    }
   ],
   "source": [
    "f=open(r\"d:1.txt\")\n",
    "##a=f.read()\n",
    "b=[line.strip() for line in f]\n",
    "print(type(b))\n",
    "print(b)"
   ]
  },
  {
   "cell_type": "code",
   "execution_count": 44,
   "id": "60751822-5da5-49fe-8208-0e2479efa370",
   "metadata": {},
   "outputs": [
    {
     "name": "stdout",
     "output_type": "stream",
     "text": [
      "[['10932', '张珊', '管理', '15000', '4000', '2300', '980', '300', '1000'], ['10933', '李思', '软件', '12000', '5000', '2600', '890', '400', '2000'], ['10934', '王武', '财务', '10100', '2000', '2500', '860', '500', '1500'], ['10935', '赵柳', '财务', '9050', '1000', '2700', '1080', '300', '2000'], ['10936', '钱棋', '人事', '10200', '2000', '2400', '1000', '600', '1000'], ['10941', '张明', '管理', '13600', '4000', '2100', '680', '300', '1000'], ['10942', '赵敏', '人事', '13200', '2500', '2300', '670', '400', '3000'], ['10945', '王红', '培训', '13600', '2600', '2030', '560', '400', '2000'], ['10946', '李萧', '培训', '12500', '2800', '2400', '420', '500', '1500'], ['10947', '孙科', '软件', '12000', '3500', '2030', '880', '300', '1000'], ['10948', '刘利', '软件', '14200', '2500', '2020', '900', '400', '2000']]\n"
     ]
    }
   ],
   "source": [
    "f=open(r\"d:income.txt\")\n",
    "a=f.readline()\n",
    "b=f.readlines()\n",
    "c=[]\n",
    "for line in b:\n",
    "    d=line.strip().split()\n",
    "    c.append(d)\n",
    "a_1=0\n",
    "for i in c:\n",
    "    b_1=i[2]\n",
    "    if \n"
   ]
  },
  {
   "cell_type": "code",
   "execution_count": 42,
   "id": "4df7cefd-9fa8-482b-9288-d3fa53fa7446",
   "metadata": {},
   "outputs": [
    {
     "name": "stdout",
     "output_type": "stream",
     "text": [
      "[['10932', '张珊', '管理', '15000', '4000', '2300', '980', '300', '1000'], ['10933', '李思', '软件', '12000', '5000', '2600', '890', '400', '2000'], ['10934', '王武', '财务', '10100', '2000', '2500', '860', '500', '1500'], ['10935', '赵柳', '财务', '9050', '1000', '2700', '1080', '300', '2000'], ['10936', '钱棋', '人事', '10200', '2000', '2400', '1000', '600', '1000'], ['10941', '张明', '管理', '13600', '4000', '2100', '680', '300', '1000'], ['10942', '赵敏', '人事', '13200', '2500', '2300', '670', '400', '3000'], ['10945', '王红', '培训', '13600', '2600', '2030', '560', '400', '2000'], ['10946', '李萧', '培训', '12500', '2800', '2400', '420', '500', '1500'], ['10947', '孙科', '软件', '12000', '3500', '2030', '880', '300', '1000'], ['10948', '刘利', '软件', '14200', '2500', '2020', '900', '400', '2000']]\n"
     ]
    }
   ],
   "source": [
    "f = open(r\"d:income.txt\")\n",
    "a = f.readline()  # 读取第一行（可能是标题行？）\n",
    "b = f.readlines()  # 读取剩余所有行\n",
    "c = []\n",
    "\n",
    "for line in b:  # 直接遍历已经读取的行列表\n",
    "    d = line.strip().split()  # 去除行末换行符并按空格分割\n",
    "    c.append(d)\n",
    "\n",
    "f.close()  # 关闭文件\n",
    "print(c)"
   ]
  },
  {
   "cell_type": "code",
   "execution_count": 46,
   "id": "1625a93c-40e7-404d-9459-ae99d79aad69",
   "metadata": {},
   "outputs": [
    {
     "name": "stdout",
     "output_type": "stream",
     "text": [
      "管理\t18370.0\n",
      "软件\t15693.33\n",
      "培训\t15275.0\n"
     ]
    }
   ],
   "source": [
    "# 读取文件并处理数据\n",
    "with open(r\"d:income.txt\") as f:\n",
    "    f.readline()  # 跳过标题行\n",
    "    lines = [line.strip().split() for line in f if line.strip()]  # 读取所有非空行\n",
    "\n",
    "# 定义收入和扣除项的列索引（索引从0开始）\n",
    "收入列 = [3, 4, 5]  # 基本工资、奖金、住房补助\n",
    "扣除列 = [6, 7, 8]  # 五险一金、其他扣款、专项附加扣除\n",
    "\n",
    "# 初始化部门统计字典\n",
    "部门数据 = {}\n",
    "\n",
    "for 行 in lines:\n",
    "    部门 = 行[2]\n",
    "    # 计算总收入（转换为浮点数并求和）\n",
    "    总收入 = sum(float(行[i]) for i in 收入列)\n",
    "    # 计算总扣除项\n",
    "    总扣除 = sum(float(行[i]) for i in 扣除列)\n",
    "    净收入 = 总收入 - 总扣除\n",
    "    \n",
    "    # 更新部门数据：如果部门不存在，先创建初始值\n",
    "    if 部门 not in 部门数据:\n",
    "        部门数据[部门] = {'总收入': 0, '人数': 0}\n",
    "    部门数据[部门]['总收入'] += 净收入\n",
    "    部门数据[部门]['人数'] += 1\n",
    "\n",
    "# 计算平均净收入\n",
    "平均净收入 = {}\n",
    "for 部门, 数据 in 部门数据.items():\n",
    "    平均 = 数据['总收入'] / 数据['人数']\n",
    "    平均净收入[部门] = round(平均, 2)  # 保留两位小数\n",
    "\n",
    "# 排序并取前3名\n",
    "排序结果 = sorted(平均净收入.items(), key=lambda x: x[1], reverse=True)\n",
    "前三名 = 排序结果[:3]\n",
    "\n",
    "# 输出结果\n",
    "for 部门, 平均 in 前三名:\n",
    "    print(f\"{部门}\\t{平均}\")"
   ]
  },
  {
   "cell_type": "code",
   "execution_count": 52,
   "id": "69769bb8-dc78-4abb-ae64-96bb65ebae6c",
   "metadata": {},
   "outputs": [
    {
     "name": "stdout",
     "output_type": "stream",
     "text": [
      "管理\t18370.00\n",
      "软件\t15693.33\n",
      "培训\t15275.00\n"
     ]
    }
   ],
   "source": [
    "f=open(r\"d:income.txt\")\n",
    "f.readline()\n",
    "lines = [line.strip().split() for line in f if line.strip()]\n",
    "\n",
    "income_cols = [3, 4, 5]\n",
    "deduction_cols = [6, 7, 8]\n",
    "\n",
    "dept_data = {}\n",
    "\n",
    "for row in lines:\n",
    "    dept = row[2]\n",
    "    total_income = sum(float(row[i]) for i in income_cols)\n",
    "    total_deduction = sum(float(row[i]) for i in deduction_cols)\n",
    "    net_income = total_income - total_deduction\n",
    "    \n",
    "    if dept not in dept_data:\n",
    "        dept_data[dept] = {'total': 0, 'count': 0}\n",
    "    dept_data[dept]['total'] += net_income\n",
    "    dept_data[dept]['count'] += 1\n",
    "\n",
    "avg_net = {k: v['total'] / v['count'] for k, v in dept_data.items()}\n",
    "sorted_depts = sorted(avg_net.items(), key=lambda x: x[1], reverse=True)\n",
    "top_three = sorted_depts[:3]\n",
    "\n",
    "for dept, val in top_three:\n",
    "    print(f\"{dept}\\t{val:.2f}\")"
   ]
  }
 ],
 "metadata": {
  "kernelspec": {
   "display_name": "Python [conda env:base] *",
   "language": "python",
   "name": "conda-base-py"
  },
  "language_info": {
   "codemirror_mode": {
    "name": "ipython",
    "version": 3
   },
   "file_extension": ".py",
   "mimetype": "text/x-python",
   "name": "python",
   "nbconvert_exporter": "python",
   "pygments_lexer": "ipython3",
   "version": "3.12.7"
  }
 },
 "nbformat": 4,
 "nbformat_minor": 5
}
