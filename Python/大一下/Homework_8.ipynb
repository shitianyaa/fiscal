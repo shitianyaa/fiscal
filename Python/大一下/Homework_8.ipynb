{
 "cells": [
  {
   "cell_type": "code",
   "execution_count": 4,
   "id": "62894957-0454-4784-8240-fec5cb8370e2",
   "metadata": {},
   "outputs": [
    {
     "name": "stdin",
     "output_type": "stream",
     "text": [
      "请输入年： 2024\n",
      "请输入月： 12\n",
      "请输入日： 31\n",
      "请输入年： 2025\n",
      "请输入月： 1\n",
      "请输入日： 1\n"
     ]
    },
    {
     "data": {
      "text/plain": [
       "1"
      ]
     },
     "execution_count": 4,
     "metadata": {},
     "output_type": "execute_result"
    }
   ],
   "source": [
    "def gap(year1,month1,day1,year2,month2,day2):\n",
    "    d = [1, 3, 5, 7, 8, 10, 12]\n",
    "    e = [4, 6, 9, 11]\n",
    "    day_1 = 0\n",
    "    day_2=0\n",
    "    is_leap_1 = (year1 % 4 == 0 and year1 % 100 != 0) or year1 % 400 == 0\n",
    "    for i in range(1, month1):\n",
    "        if i in d:\n",
    "            day_1 += 31\n",
    "        elif i in e:\n",
    "            day_1+= 30\n",
    "        elif i == 2:\n",
    "            if is_leap_1:\n",
    "                day_1 += 29\n",
    "                day=366\n",
    "            else:\n",
    "                day_1+= 28\n",
    "                day=365\n",
    "    day_1 += day1\n",
    "    is_leap_2 = (year2 % 4 == 0 and year2 % 100 != 0) or year2 % 400 == 0\n",
    "    for i in range(1, month2):\n",
    "        if i in d:\n",
    "            day_2 += 31\n",
    "        elif i in e:\n",
    "            day_2 += 30\n",
    "        elif i == 2:\n",
    "            if is_leap_2:\n",
    "                day_2 += 29\n",
    "            else:\n",
    "                day_2 += 28\n",
    "    day_2 += day2\n",
    "    return day-day_1+day2\n",
    "year1 = int(input(\"请输入起始年：\"))\n",
    "month1 = int(input(\"请输入起始月：\"))\n",
    "day1 = int(input(\"请输入起始日：\"))\n",
    "year2 = int(input(\"请输入截至年：\"))\n",
    "month2 = int(input(\"请输入截至月：\"))\n",
    "day2 = int(input(\"请输入截至日：\"))   \n",
    "gap(year1,month1,day1,year2,month2,day2)"
   ]
  },
  {
   "cell_type": "code",
   "execution_count": 39,
   "id": "e7eca0d1-61db-4f90-a431-b489b44f7c5b",
   "metadata": {},
   "outputs": [
    {
     "name": "stdout",
     "output_type": "stream",
     "text": [
      "[101, 131, 151, 181, 191, 313, 353, 373, 383, 727, 757, 787, 797, 919, 929]\n"
     ]
    }
   ],
   "source": [
    "def num1():\n",
    "    a=[]\n",
    "    for i in range(101,1000):\n",
    "        if i//100==i%10:\n",
    "            a.append(i)\n",
    "    return a\n",
    "def num2():\n",
    "    b=[]\n",
    "    for i in range(101,1000):\n",
    "        for j in range(2,i):\n",
    "                    if i%j==0:\n",
    "                        break\n",
    "        else:\n",
    "                    b.append(i)\n",
    "    return b\n",
    "c=[]\n",
    "for i in num1():\n",
    "    if i in num2():\n",
    "        c.append(i)\n",
    "print(c)"
   ]
  },
  {
   "cell_type": "code",
   "execution_count": 49,
   "id": "bc2e2c03-3ef7-41a0-972a-67cb2277de46",
   "metadata": {},
   "outputs": [
    {
     "data": {
      "text/plain": [
       "(4, 5)"
      ]
     },
     "execution_count": 49,
     "metadata": {},
     "output_type": "execute_result"
    }
   ],
   "source": [
    " def func(a,b,c,*p):\n",
    "     return p\n",
    "func(1,2,3,4,5)\n"
   ]
  }
 ],
 "metadata": {
  "kernelspec": {
   "display_name": "Python [conda env:base] *",
   "language": "python",
   "name": "conda-base-py"
  },
  "language_info": {
   "codemirror_mode": {
    "name": "ipython",
    "version": 3
   },
   "file_extension": ".py",
   "mimetype": "text/x-python",
   "name": "python",
   "nbconvert_exporter": "python",
   "pygments_lexer": "ipython3",
   "version": "3.12.7"
  }
 },
 "nbformat": 4,
 "nbformat_minor": 5
}
