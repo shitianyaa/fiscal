{
 "cells": [
  {
   "cell_type": "code",
   "execution_count": 28,
   "id": "ecf9bcbc-0962-4c1c-a941-f0b34dad948d",
   "metadata": {},
   "outputs": [
    {
     "name": "stdout",
     "output_type": "stream",
     "text": [
      "['怒发冲冠，凭栏处、潇潇雨歇。抬望眼，仰天长啸，壮怀激烈。三十功名尘与土，八千里路云和月。莫等闲，白了少年头，空悲切！\\n', '靖康耻，犹未雪。臣子恨，何时灭！驾长车，踏破贺兰山缺。壮志饥餐胡虏肉，笑谈渴饮匈奴血。待从头、收拾旧山河，朝天阙。']\n"
     ]
    }
   ],
   "source": [
    "##\"d:\\text\\notebook\\tip.txt\"\n",
    "f=open(r\"d:2025年2月20日V2ray.txt\",\"rt\")\n",
    "##f.write(\"你好，新同学\")\n",
    "##f.close()\n",
    "a=f.readlines()\n",
    "print(a)\n"
   ]
  },
  {
   "cell_type": "code",
   "execution_count": 2,
   "id": "11fc71f4-9af8-40d7-af30-c33d59fcd9f3",
   "metadata": {},
   "outputs": [
    {
     "name": "stdout",
     "output_type": "stream",
     "text": [
      "{}\n"
     ]
    }
   ],
   "source": [
    "f = open(r\"D:\\DEMONjava\\1.txt\", encoding=\"utf-8\")\n",
    "data_dict = {}  # 改用更具描述性的变量名\n",
    "for line in f:\n",
    "    parts = line.strip().split(\",\")  # 先去除首尾空白，再分割\n",
    "    if len(parts) >= 2:  # 确保至少有两个元素\n",
    "        key = parts[0]\n",
    "        value = parts[1].strip()  # 去除值两边的空白\n",
    "        data_dict[key] = value  # 正确赋值给字典\n",
    "f.close()  # 别忘了关闭文件\n",
    "print(data_dict)"
   ]
  },
  {
   "cell_type": "code",
   "execution_count": 4,
   "id": "1db4365b-c685-4b85-a5cb-6b68174d5c04",
   "metadata": {},
   "outputs": [
    {
     "ename": "NameError",
     "evalue": "name 'a' is not defined",
     "output_type": "error",
     "traceback": [
      "\u001b[1;31m---------------------------------------------------------------------------\u001b[0m",
      "\u001b[1;31mNameError\u001b[0m                                 Traceback (most recent call last)",
      "Cell \u001b[1;32mIn[4], line 1\u001b[0m\n\u001b[1;32m----> 1\u001b[0m a[\u001b[38;5;241m1\u001b[39m]\n",
      "\u001b[1;31mNameError\u001b[0m: name 'a' is not defined"
     ]
    }
   ],
   "source": []
  }
 ],
 "metadata": {
  "kernelspec": {
   "display_name": "Python [conda env:base] *",
   "language": "python",
   "name": "conda-base-py"
  },
  "language_info": {
   "codemirror_mode": {
    "name": "ipython",
    "version": 3
   },
   "file_extension": ".py",
   "mimetype": "text/x-python",
   "name": "python",
   "nbconvert_exporter": "python",
   "pygments_lexer": "ipython3",
   "version": "3.12.7"
  }
 },
 "nbformat": 4,
 "nbformat_minor": 5
}
