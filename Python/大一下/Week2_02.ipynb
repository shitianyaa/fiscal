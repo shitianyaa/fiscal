{
 "cells": [
  {
   "cell_type": "code",
   "execution_count": 2,
   "id": "431122c3-2604-4768-823e-c528ffe6c2d0",
   "metadata": {},
   "outputs": [
    {
     "name": "stdout",
     "output_type": "stream",
     "text": [
      "28\n"
     ]
    }
   ],
   "source": [
    "a=3+5\\\n",
    "*5\n",
    "print(a)"
   ]
  },
  {
   "cell_type": "code",
   "execution_count": 42,
   "id": "a28abf17-450f-47d8-a115-715ef4536375",
   "metadata": {},
   "outputs": [
    {
     "name": "stdout",
     "output_type": "stream",
     "text": [
      "<class 'float'>\n",
      "<class 'str'>\n",
      "shitianyaashitianyaashitianyaa 121212121212\n"
     ]
    },
    {
     "data": {
      "text/plain": [
       "'abcd'"
      ]
     },
     "execution_count": 42,
     "metadata": {},
     "output_type": "execute_result"
    }
   ],
   "source": [
    "a=3.1\n",
    "b=str(a)\n",
    "print(type(a))\n",
    "print(type(b))\n",
    "c=str(12)\n",
    "##字符串的\n",
    "print('shitianyaa'*3,c*6)\n",
    "\"ab\"+\"cd\""
   ]
  },
  {
   "cell_type": "code",
   "execution_count": 14,
   "id": "492b63ae-f814-4401-b7e3-ec7d4cf13291",
   "metadata": {},
   "outputs": [
    {
     "name": "stdout",
     "output_type": "stream",
     "text": [
      "<class 'float'>\n",
      "Python is fun!\n"
     ]
    }
   ],
   "source": [
    "price=99.99\n",
    "print(type(price))\n",
    "message=\"Python is fun!\"\n",
    "print(message)"
   ]
  },
  {
   "cell_type": "code",
   "execution_count": null,
   "id": "24f82ac4-b288-4062-8ede-fdc419d41bf0",
   "metadata": {},
   "outputs": [],
   "source": []
  },
  {
   "cell_type": "code",
   "execution_count": 18,
   "id": "7dccaaa5-f709-4ef8-8ec6-5f1e2720f7e5",
   "metadata": {},
   "outputs": [
    {
     "data": {
      "text/plain": [
       "5"
      ]
     },
     "execution_count": 18,
     "metadata": {},
     "output_type": "execute_result"
    }
   ],
   "source": [
    "len('aaaaa')"
   ]
  },
  {
   "cell_type": "code",
   "execution_count": 24,
   "id": "745c8952-d4d8-476a-9e71-3403c9e71bbd",
   "metadata": {},
   "outputs": [
    {
     "data": {
      "text/plain": [
       "'学号为42427008 对应的学生姓名为田鑫硕'"
      ]
     },
     "execution_count": 24,
     "metadata": {},
     "output_type": "execute_result"
    }
   ],
   "source": [
    "'学号为{1} 对应的学生姓名为{0}'.format('田鑫硕','42427008')"
   ]
  },
  {
   "cell_type": "code",
   "execution_count": 40,
   "id": "68b9f8d7-8d7c-4ea6-a383-c3ba6dd39a59",
   "metadata": {},
   "outputs": [
    {
     "data": {
      "text/plain": [
       "-3"
      ]
     },
     "execution_count": 40,
     "metadata": {},
     "output_type": "execute_result"
    }
   ],
   "source": [
    "-7%3\n",
    "-7//3"
   ]
  },
  {
   "cell_type": "code",
   "execution_count": 68,
   "id": "43f3ca01-1ea9-48ce-a7c2-6e8bc5822d63",
   "metadata": {},
   "outputs": [
    {
     "data": {
      "text/plain": [
       "(98, 97)"
      ]
     },
     "execution_count": 68,
     "metadata": {},
     "output_type": "execute_result"
    }
   ],
   "source": [
    "ord('b'),ord('a')\n"
   ]
  },
  {
   "cell_type": "code",
   "execution_count": 78,
   "id": "dacebe75-0073-4ba7-9e7f-6694a0cf419d",
   "metadata": {},
   "outputs": [
    {
     "data": {
      "text/plain": [
       "('0', '1')"
      ]
     },
     "execution_count": 78,
     "metadata": {},
     "output_type": "execute_result"
    }
   ],
   "source": [
    "chr(48),chr(49)"
   ]
  },
  {
   "cell_type": "code",
   "execution_count": 84,
   "id": "b5e97ec6-35e0-425f-aa49-69e56c962461",
   "metadata": {},
   "outputs": [
    {
     "name": "stdout",
     "output_type": "stream",
     "text": [
      "4\n"
     ]
    }
   ],
   "source": [
    "a=1\n",
    "a+=3\n",
    "print(a)"
   ]
  },
  {
   "cell_type": "code",
   "execution_count": 86,
   "id": "bd819ff7-3734-4652-aae3-7c6f52041864",
   "metadata": {},
   "outputs": [
    {
     "name": "stdout",
     "output_type": "stream",
     "text": [
      "shitianyaa 13\n"
     ]
    }
   ],
   "source": [
    "name,age='shitianyaa','13'\n",
    "print(name,age)"
   ]
  },
  {
   "cell_type": "code",
   "execution_count": 6,
   "id": "716b3874-87e5-4ce0-90a6-2d479b752f93",
   "metadata": {},
   "outputs": [
    {
     "name": "stdout",
     "output_type": "stream",
     "text": [
      "False\n",
      "True\n",
      "False\n",
      "True\n",
      "False\n",
      "False <class 'int'> <class 'float'>!"
     ]
    }
   ],
   "source": [
    "print(True and False) ##全为真为真 0+0=0\n",
    "print(True or  False) ## 0*a=0\n",
    "print(not True)\n",
    "print('ab' in'abc')\n",
    "print('ba' in 'ab')\n",
    "a=38\n",
    "b=38.0\n",
    "print(a is b,type(a),type(b),end=\"!\")"
   ]
  },
  {
   "cell_type": "code",
   "execution_count": 116,
   "id": "f3ec553f-0420-4a37-aab5-d5edcc7c91f3",
   "metadata": {},
   "outputs": [
    {
     "name": "stdin",
     "output_type": "stream",
     "text": [
      "人生海海，山山而川： 123\n"
     ]
    },
    {
     "name": "stdout",
     "output_type": "stream",
     "text": [
      "123\n"
     ]
    },
    {
     "name": "stdin",
     "output_type": "stream",
     "text": [
      "请输入年龄： 18\n"
     ]
    },
    {
     "name": "stdout",
     "output_type": "stream",
     "text": [
      "<class 'str'>\n",
      "<class 'int'>\n"
     ]
    }
   ],
   "source": [
    "a = input('人生海海，山山而川：')\n",
    "print(a)\n",
    "age = input('请输入年龄：')\n",
    "print(type(age))\n",
    "b=int(age)\n",
    "print(type(b))"
   ]
  },
  {
   "cell_type": "code",
   "execution_count": 122,
   "id": "940d004d-38a8-41c2-8615-c2f246fac8e5",
   "metadata": {},
   "outputs": [
    {
     "name": "stdout",
     "output_type": "stream",
     "text": [
      "36.0\n"
     ]
    }
   ],
   "source": [
    "result=15*2+30/5\n",
    "print(result)\n"
   ]
  },
  {
   "cell_type": "code",
   "execution_count": 4,
   "id": "48ce65a4-dd03-40dc-a51b-4a137736153c",
   "metadata": {},
   "outputs": [
    {
     "name": "stdout",
     "output_type": "stream",
     "text": [
      "16.0\n"
     ]
    }
   ],
   "source": [
    "a=3  ##上底\n",
    "b=5  ##下底\n",
    "c=4  ##高\n",
    "s=(a+b)*c/2  ##面积\n",
    "print(s)"
   ]
  },
  {
   "cell_type": "code",
   "execution_count": 10,
   "id": "9b57151c-aedc-4c5e-89b8-49394a43dbfc",
   "metadata": {},
   "outputs": [
    {
     "name": "stdin",
     "output_type": "stream",
     "text": [
      "请输入需要转换的摄氏温度： 37.5\n"
     ]
    },
    {
     "name": "stdout",
     "output_type": "stream",
     "text": [
      "华氏温度为：99.5\n"
     ]
    }
   ],
   "source": [
    "C = float(input('请输入需要转换的摄氏温度：'))\n",
    "F = C*9/5+32\n",
    "print('华氏温度为：{}'.format(F))"
   ]
  },
  {
   "cell_type": "code",
   "execution_count": 4,
   "id": "236d802e-9a58-4cbf-ac77-3f9e269acc79",
   "metadata": {},
   "outputs": [
    {
     "name": "stdout",
     "output_type": "stream",
     "text": [
      "5\n"
     ]
    }
   ],
   "source": [
    "a=1+2*2  ##先算乘法\n",
    "print(a)"
   ]
  },
  {
   "cell_type": "code",
   "execution_count": 12,
   "id": "fd1bfde8-b9eb-400f-98c6-3d6420dfa26c",
   "metadata": {},
   "outputs": [
    {
     "name": "stdout",
     "output_type": "stream",
     "text": [
      "True\n",
      "False\n"
     ]
    }
   ],
   "source": [
    "print(5+2==7)\n",
    "print('a'=='b')"
   ]
  }
 ],
 "metadata": {
  "kernelspec": {
   "display_name": "Python [conda env:base] *",
   "language": "python",
   "name": "conda-base-py"
  },
  "language_info": {
   "codemirror_mode": {
    "name": "ipython",
    "version": 3
   },
   "file_extension": ".py",
   "mimetype": "text/x-python",
   "name": "python",
   "nbconvert_exporter": "python",
   "pygments_lexer": "ipython3",
   "version": "3.12.7"
  }
 },
 "nbformat": 4,
 "nbformat_minor": 5
}
