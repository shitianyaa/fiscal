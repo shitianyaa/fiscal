{
 "cells": [
  {
   "cell_type": "code",
   "execution_count": 4,
   "id": "5deff249-1a11-4a56-830d-654ba9d0f9d6",
   "metadata": {},
   "outputs": [
    {
     "name": "stdout",
     "output_type": "stream",
     "text": [
      "[3, 2, 5, 4, 7, 6, 9]\n"
     ]
    }
   ],
   "source": [
    "data = [2,3,4,5,6,7,8]\n",
    "a=0\n",
    "b=[]\n",
    "for i in data:\n",
    "    if i%2==0:\n",
    "        a=i+1\n",
    "        b.append(a)\n",
    "        \n",
    "    else:\n",
    "        a=i-1\n",
    "        b.append(a)\n",
    "print(b)\n",
    "        "
   ]
  },
  {
   "cell_type": "code",
   "execution_count": 24,
   "id": "49be8c44-932a-426c-ae06-860a9af470bb",
   "metadata": {},
   "outputs": [
    {
     "name": "stdout",
     "output_type": "stream",
     "text": [
      "[3, 2, 5, 4, 7, 6, 9]\n"
     ]
    }
   ],
   "source": [
    "data = [2,3,4,5,6,7,8]\n",
    "a=len(data)\n",
    "for i in range(0,a):\n",
    "        if i%2==0:\n",
    "            data[i]+=1\n",
    "        else:\n",
    "            data[i]-=1\n",
    "            \n",
    "print(data)"
   ]
  },
  {
   "cell_type": "code",
   "execution_count": 36,
   "id": "9258e963-c55b-4c5e-9581-ab18e3b737fd",
   "metadata": {},
   "outputs": [
    {
     "name": "stdout",
     "output_type": "stream",
     "text": [
      "[2, 3, 4, 5, 6, 7, 8]\n"
     ]
    }
   ],
   "source": [
    "##s = [x**2  for x in range (5) if x%2==0]\n",
    "##print(s)\n",
    "data=[2,3,4,5,6,7,8]\n",
    "##data=[i+1 if i%2==0 ]\n",
    "print(data)\n"
   ]
  },
  {
   "cell_type": "code",
   "execution_count": 32,
   "id": "8e9188b0-b273-45ba-b178-4330b1dbc4f5",
   "metadata": {},
   "outputs": [
    {
     "name": "stdout",
     "output_type": "stream",
     "text": [
      "[9, 35, -43, 21]\n"
     ]
    }
   ],
   "source": [
    "data=[12,21,56,13,34]\n",
    "a=[]\n",
    "for i in range(len(data)-1):\n",
    "      a.append(data[i+1]-data[i])\n",
    "print(a)"
   ]
  },
  {
   "cell_type": "code",
   "execution_count": 38,
   "id": "df0f4710-2d71-4802-a84a-9d620e600683",
   "metadata": {},
   "outputs": [
    {
     "name": "stdout",
     "output_type": "stream",
     "text": [
      "['a', 'b', 'c', 'd', 's']\n"
     ]
    }
   ],
   "source": [
    "lst=['a','b','c','d','s','a']\n",
    "lst_1=[]\n",
    "for i in lst:\n",
    "    if i not in lst_1:\n",
    "        lst_1.append(i)\n",
    "print(lst_1)\n",
    "        \n",
    "            "
   ]
  },
  {
   "cell_type": "code",
   "execution_count": null,
   "id": "a162a7b6-9bb0-40db-9316-8d5cabf44457",
   "metadata": {},
   "outputs": [],
   "source": [
    "data =[\"A\",\"B\",\"A\",\"B\",\"B\",\"C\"]\n",
    "for x in data:\n",
    "    if data.count (x)>1:\n",
    "    print (data)\n",
    "data. remove(x)"
   ]
  },
  {
   "cell_type": "code",
   "execution_count": 50,
   "id": "b5ab9d65-a46f-41a6-ae3c-5d4777fbd716",
   "metadata": {},
   "outputs": [
    {
     "name": "stdout",
     "output_type": "stream",
     "text": [
      "['A', 'B', 'C']\n"
     ]
    }
   ],
   "source": [
    "data =[\"A\",\"B\",\"A\",\"B\",\"B\",\"C\"]\n",
    "for i in range(len(data)-1,-1,-1):\n",
    "    if data.count(data[i])>1:\n",
    "        del data[i]\n",
    "print(data)"
   ]
  },
  {
   "cell_type": "code",
   "execution_count": 84,
   "id": "e8a9dc55-e9b3-4b0b-b9ef-c6f2a07c6244",
   "metadata": {},
   "outputs": [
    {
     "name": "stdout",
     "output_type": "stream",
     "text": [
      "['D', 'C', 'B', 'A']\n"
     ]
    }
   ],
   "source": [
    "box=['A','B','C','D']\n",
    "for i in range(len(box)//2):\n",
    "    box[i],box[len(box)-i-1]=box[len(box)-1-i],box[i]\n",
    "print(box)\n",
    "    "
   ]
  },
  {
   "cell_type": "code",
   "execution_count": 56,
   "id": "28f77159-7724-4017-bfcd-6a12998ae40b",
   "metadata": {},
   "outputs": [
    {
     "name": "stdout",
     "output_type": "stream",
     "text": [
      "['D', 'C', 'B', 'A']\n"
     ]
    }
   ],
   "source": [
    "box=['A','B','C','D']\n",
    "lst=[]\n",
    "for i in range(len(box)-1,-1,-1):\n",
    "    lst+=box[i]\n",
    "print(lst)\n",
    "    "
   ]
  },
  {
   "cell_type": "code",
   "execution_count": 60,
   "id": "dbc98167-4bed-4117-9554-fa0b68b1087d",
   "metadata": {},
   "outputs": [
    {
     "name": "stdout",
     "output_type": "stream",
     "text": [
      "['D', 'C', 'B', 'A']\n"
     ]
    }
   ],
   "source": [
    "box=['A','B','C','D']\n",
    "lst=[]\n",
    "for i in range(0,len(box)):\n",
    "    lst.insert(i,box[len(box)-i-1])\n",
    "print(lst)"
   ]
  },
  {
   "cell_type": "code",
   "execution_count": 160,
   "id": "d07141a9-a824-4d97-bb97-6fe1d483c4ee",
   "metadata": {},
   "outputs": [
    {
     "name": "stdin",
     "output_type": "stream",
     "text": [
      "请输入： 1\n"
     ]
    },
    {
     "name": "stdout",
     "output_type": "stream",
     "text": [
      "[0, 1]\n"
     ]
    }
   ],
   "source": [
    "a = [1, 1, 2, 2, 6, 9, 88, 70]\n",
    "b = len(a)\n",
    "c = True\n",
    "d = []\n",
    "n = int(input(\"请输入：\"))\n",
    "for i in range(b):\n",
    "    if a[i] == n:\n",
    "        c = False\n",
    "        d.append(i)\n",
    "print(d)\n",
    "if c:\n",
    "    print(\"None\")\n"
   ]
  },
  {
   "cell_type": "code",
   "execution_count": 164,
   "id": "55a694f5-c5ae-44dc-9062-db05f0df37fb",
   "metadata": {},
   "outputs": [
    {
     "name": "stdout",
     "output_type": "stream",
     "text": [
      "1\n",
      "1\n"
     ]
    }
   ],
   "source": [
    "a=[6,9,8,1,2,3]\n",
    "print(min(a))\n",
    "min_x=a[0]\n",
    "for i in range(len(a)):\n",
    "    for j in a:\n",
    "        \n",
    "        if min_x<=j:\n",
    "            min_x=min_x\n",
    "        else:\n",
    "            min_x=j\n",
    "print(min_x)"
   ]
  },
  {
   "cell_type": "code",
   "execution_count": null,
   "id": "ae2c9f14-c099-4fb1-8ae1-de9541e01a0e",
   "metadata": {},
   "outputs": [],
   "source": []
  }
 ],
 "metadata": {
  "kernelspec": {
   "display_name": "Python [conda env:base] *",
   "language": "python",
   "name": "conda-base-py"
  },
  "language_info": {
   "codemirror_mode": {
    "name": "ipython",
    "version": 3
   },
   "file_extension": ".py",
   "mimetype": "text/x-python",
   "name": "python",
   "nbconvert_exporter": "python",
   "pygments_lexer": "ipython3",
   "version": "3.12.7"
  }
 },
 "nbformat": 4,
 "nbformat_minor": 5
}
