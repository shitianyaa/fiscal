{
 "cells": [
  {
   "cell_type": "code",
   "execution_count": 86,
   "id": "41faff01-22cb-4647-9e3c-ac48703e37ed",
   "metadata": {},
   "outputs": [
    {
     "name": "stdout",
     "output_type": "stream",
     "text": [
      "PI的值3.14104\n"
     ]
    }
   ],
   "source": [
    "import random as r\n",
    "n=0\n",
    "N=100000\n",
    "for i in range(N):\n",
    "    x=r.random()\n",
    "    y=r.random()\n",
    "    if (x**2+y**2)**0.5 <= 1:\n",
    "        n=n+1\n",
    "print(f\"PI的值{4*n/N}\")\n",
    "    "
   ]
  },
  {
   "cell_type": "code",
   "execution_count": 122,
   "id": "abc9758e-6b45-42f9-88f9-96fbb833cfb8",
   "metadata": {},
   "outputs": [
    {
     "name": "stdin",
     "output_type": "stream",
     "text": [
      "请输入： 30\n"
     ]
    },
    {
     "name": "stdout",
     "output_type": "stream",
     "text": [
      "UJSKSGPGBMVWEDTLPYWTVVUVWXOOQC\n",
      "“A”出现了0次\n"
     ]
    }
   ],
   "source": [
    "import random as r\n",
    "##print(ord(\"A\"))\n",
    "##print(ord(\"Z\"))\n",
    "n=int(input(\"请输入：\"))\n",
    "b=\"\"\n",
    "k=0\n",
    "##d=\"\"\n",
    "for i in range(n):\n",
    "    a=chr(r.randint(ord(\"A\"),ord(\"Z\")))\n",
    "    ##c=chr(r.randint(ord(\"a\"),ord(\"z\")))    \n",
    "    ##d+=c\n",
    "    if a==\"A\":\n",
    "        k+=1\n",
    "        \n",
    "        \n",
    "    b+=a\n",
    "print(b)\n",
    "print(f\"“A”出现了{k}次\")\n",
    "##print(d)\n",
    "    \n",
    "    "
   ]
  },
  {
   "cell_type": "code",
   "execution_count": 132,
   "id": "7182bb7c-a652-4b85-ba66-50647c5d27f5",
   "metadata": {},
   "outputs": [
    {
     "data": {
      "text/plain": [
       "'!\"#$%&\\'()*+,-./:;<=>?@[\\\\]^_`{|}~'"
      ]
     },
     "execution_count": 132,
     "metadata": {},
     "output_type": "execute_result"
    }
   ],
   "source": [
    "import string as st\n",
    "import random as rd\n",
    "st.ascii_uppercase\n",
    "st.punctuation"
   ]
  },
  {
   "cell_type": "code",
   "execution_count": 144,
   "id": "1a6222d4-f7fb-4ff2-99da-3a626f905227",
   "metadata": {},
   "outputs": [
    {
     "name": "stdout",
     "output_type": "stream",
     "text": [
      "s\n",
      "s\n",
      "s\n",
      "s\n",
      "s\n"
     ]
    }
   ],
   "source": [
    "\n",
    "s = 0\n",
    "for i in range(5):\n",
    "    s = s + i\n",
    "    print('s')\n",
    "    "
   ]
  },
  {
   "cell_type": "code",
   "execution_count": null,
   "id": "ef55c849-03c9-47bf-9baa-98f2e0a73892",
   "metadata": {},
   "outputs": [
    {
     "name": "stdout",
     "output_type": "stream",
     "text": [
      "66\n"
     ]
    },
    {
     "name": "stdin",
     "output_type": "stream",
     "text": [
      "请输入： 66\n",
      "猜对了,是否再玩一局？玩的话请输入'Y' Y\n",
      "请输入： 66\n"
     ]
    },
    {
     "name": "stdout",
     "output_type": "stream",
     "text": [
      "猜小了\n"
     ]
    }
   ],
   "source": [
    "import random as r\n",
    "b=r.randint(1,100)\n",
    "print(b)\n",
    "while True:\n",
    "    a=int(input(\"请输入：\"))\n",
    "    if a<b:\n",
    "        print(\"猜小了\")\n",
    "      \n",
    "    elif a>b:\n",
    "        print(\"猜大了\")\n",
    "\n",
    "    else:\n",
    "        c=input(\"猜对了,是否再玩一局？玩的话请输入'Y'\")\n",
    "        if c==\"Y\":\n",
    "            b=r.randint(1,100)\n",
    "                \n",
    "        else :\n",
    "                     break\n",
    "                \n",
    "       \n",
    "\n",
    "   "
   ]
  }
 ],
 "metadata": {
  "kernelspec": {
   "display_name": "Python [conda env:base] *",
   "language": "python",
   "name": "conda-base-py"
  },
  "language_info": {
   "codemirror_mode": {
    "name": "ipython",
    "version": 3
   },
   "file_extension": ".py",
   "mimetype": "text/x-python",
   "name": "python",
   "nbconvert_exporter": "python",
   "pygments_lexer": "ipython3",
   "version": "3.12.7"
  }
 },
 "nbformat": 4,
 "nbformat_minor": 5
}
