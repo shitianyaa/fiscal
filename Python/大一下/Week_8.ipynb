{
 "cells": [
  {
   "cell_type": "code",
   "execution_count": 2,
   "id": "3dff5629-9a35-429e-95b9-9772e821af5c",
   "metadata": {},
   "outputs": [
    {
     "name": "stdout",
     "output_type": "stream",
     "text": [
      "[2, 0, 2, 0, 2, 0]\n"
     ]
    }
   ],
   "source": [
    "data=[1,1,1,1,1,1]\n",
    "for i in range(0,len(data)):\n",
    "    if i%2==0:\n",
    "        data[i]+=1\n",
    "    else:\n",
    "        data[i]-=1\n",
    "print(data)"
   ]
  },
  {
   "cell_type": "code",
   "execution_count": 6,
   "id": "22b4ec27-8973-438c-ade4-c97b3f895223",
   "metadata": {},
   "outputs": [
    {
     "name": "stdout",
     "output_type": "stream",
     "text": [
      "[3, 4, 5]\n"
     ]
    }
   ],
   "source": [
    "data=[2,2,1,3,6,99]\n",
    "d=[]\n",
    "for i in range(1,len(data)):\n",
    "    if data[i]>data[i-1]:\n",
    "        d.append(i)\n",
    "print(d)\n",
    "        "
   ]
  },
  {
   "cell_type": "code",
   "execution_count": 26,
   "id": "3bec711b-8196-4a9e-a469-b32df5ec6a8f",
   "metadata": {},
   "outputs": [
    {
     "name": "stdout",
     "output_type": "stream",
     "text": [
      "12\n",
      "{1: 'shitianyaa', 'age': 12, 'name': 'shamiko', '4': 2, 'day': 2}\n"
     ]
    }
   ],
   "source": [
    "##d={\"A\":1}\n",
    "a={1:\"shitianyaa\",\"age\":12}\n",
    "print(a[\"age\"])\n",
    "##print(d)\n",
    "a[\"name\"]=\"shamiko\"\n",
    "a.update({\"4\": 2,\"day\": 2})\n",
    "print(a)\n"
   ]
  },
  {
   "cell_type": "code",
   "execution_count": 36,
   "id": "de33c25c-a6b6-458d-8c86-4fc198ebe8de",
   "metadata": {},
   "outputs": [
    {
     "name": "stdout",
     "output_type": "stream",
     "text": [
      "{1: 1}\n"
     ]
    }
   ],
   "source": [
    "student={1:1,\"?\":3}\n",
    "last_pair = student.popitem()  # 删除并返回最后一个键值对\n",
    "print(student)"
   ]
  },
  {
   "cell_type": "code",
   "execution_count": 32,
   "id": "d546ce86-30f9-45b5-918a-fdabd59589e1",
   "metadata": {},
   "outputs": [
    {
     "name": "stdout",
     "output_type": "stream",
     "text": [
      "{1: 1}\n",
      "{}\n"
     ]
    }
   ],
   "source": [
    "a={1:1,\"a\":2}\n",
    "b=a.pop(\"a\")\n",
    "print(a)\n",
    "del a[1]\n",
    "print(a)"
   ]
  },
  {
   "cell_type": "code",
   "execution_count": 44,
   "id": "b68382da-240e-41e1-96c6-c5104f6d3de3",
   "metadata": {},
   "outputs": [
    {
     "name": "stdout",
     "output_type": "stream",
     "text": [
      "{'A': 2, 'b': 'shamiko', 'c': 'no'}\n"
     ]
    }
   ],
   "source": [
    "d={\"A\":2,\"b\":\"shamiko\"}\n",
    "d.get(\"n\",\"everything is nothing\")\n",
    "\n",
    "d.setdefault(\"c\",\"no\")\n",
    "print(d)"
   ]
  },
  {
   "cell_type": "code",
   "execution_count": 48,
   "id": "b344e891-dee7-4827-a984-cdcc5a15177d",
   "metadata": {},
   "outputs": [
    {
     "name": "stdout",
     "output_type": "stream",
     "text": [
      "a\n",
      "b\n",
      "b 1\n",
      "b 2\n",
      "('a', 1)\n",
      "('b', 2)\n"
     ]
    }
   ],
   "source": [
    "##遍历\n",
    "d={\"a\":1,\"b\":2}\n",
    "for k in d:\n",
    "    print(k)##直接遍历得到key\n",
    "for v in d.values():\n",
    "    print(k,v)\n",
    "for item in d.items():\n",
    "    print(item)"
   ]
  },
  {
   "cell_type": "code",
   "execution_count": 2,
   "id": "ce4244e3-a7bb-4c66-adef-c8201af566a7",
   "metadata": {},
   "outputs": [
    {
     "name": "stdout",
     "output_type": "stream",
     "text": [
      "{'abanden': 1, 'm': 1, 'kl': 2, 56: 1, 7: 1, 89: 1, 2: 1}\n"
     ]
    }
   ],
   "source": [
    "a=[\"abanden\",\"m\",\"kl\",\"kl\",56,7,89,2]\n",
    "b={}\n",
    "for i in a:\n",
    "    if i not in b:\n",
    "        b[i]=1\n",
    "    else:\n",
    "        b[i]+=1\n",
    "print(b)"
   ]
  },
  {
   "cell_type": "code",
   "execution_count": 56,
   "id": "04265748-43d6-456a-b1c5-5d602d519060",
   "metadata": {},
   "outputs": [
    {
     "name": "stdout",
     "output_type": "stream",
     "text": [
      "{'A': 2, 'B': 2, 'C': 2}\n"
     ]
    }
   ],
   "source": [
    "a=[\"A\",\"A\",\"B\",\"B\",\"C\",\"C\"]\n",
    "b={}\n",
    "for i in a:\n",
    "    b[i]=b.get(i,0)+1\n",
    "print(b)"
   ]
  },
  {
   "cell_type": "code",
   "execution_count": 58,
   "id": "c02908c6-c4ca-4292-b51f-ddfacc0ee9d1",
   "metadata": {},
   "outputs": [
    {
     "name": "stdout",
     "output_type": "stream",
     "text": [
      "{4: 23, 10: 27, 3: 12, 6: 12, 7: 18, 1: 23, 5: 24, 9: 16, 8: 20, 2: 25}\n"
     ]
    }
   ],
   "source": [
    "import random\n",
    "d=[random.randint(1,10) for i in range(200)]\n",
    "a={}\n",
    "for i in d:\n",
    "    if i not in a:\n",
    "        a[i]=1\n",
    "    else:\n",
    "        a[i]+=1\n",
    "print(a)\n",
    "    "
   ]
  },
  {
   "cell_type": "code",
   "execution_count": 66,
   "id": "9171163e-0d98-483d-be46-cf7f72345f89",
   "metadata": {},
   "outputs": [
    {
     "name": "stdout",
     "output_type": "stream",
     "text": [
      "<class 'set'>\n",
      "<class 'list'>\n",
      "<class 'tuple'>\n",
      "<class 'dict'>\n",
      "<class 'set'>\n"
     ]
    }
   ],
   "source": [
    "##集合\n",
    "s={101,102}\n",
    "print(type(s))\n",
    "s=set()\n",
    "a=[3]\n",
    "b=(1,)\n",
    "c={1:1}\n",
    "d={3}\n",
    "print(type(a))\n",
    "print(type(b))\n",
    "print(type(c))\n",
    "print(type(d))"
   ]
  },
  {
   "cell_type": "code",
   "execution_count": 80,
   "id": "23b2dc6f-7f2a-48b3-b1b5-1048180189a4",
   "metadata": {},
   "outputs": [
    {
     "name": "stdout",
     "output_type": "stream",
     "text": [
      "{1, 2, 3, 4, 9}\n",
      "{2, 3, 4, 9}\n",
      "{3, 4, 9}\n",
      "{3, 4, 9}\n"
     ]
    }
   ],
   "source": [
    "a={1,2,3,4}\n",
    "a.add(9)\n",
    "print(a)##增加\n",
    "a.remove(1)##删除\n",
    "print(a)\n",
    "a.pop()##随机删除\n",
    "print(a)\n",
    "a.discard(6)##删除不提示\n",
    "print(a)\n"
   ]
  },
  {
   "cell_type": "code",
   "execution_count": 84,
   "id": "ce46e28b-34f6-4305-ab92-d354738feddd",
   "metadata": {},
   "outputs": [
    {
     "name": "stdout",
     "output_type": "stream",
     "text": [
      "{1, 2, 3, 4}\n",
      "{1}\n"
     ]
    }
   ],
   "source": [
    "s1={1,2,3}\n",
    "s2={2,3,4}\n",
    "print(s1 | s2)\n",
    "print(s1 - s2)"
   ]
  },
  {
   "cell_type": "code",
   "execution_count": 42,
   "id": "bac79751-4f12-4abb-9af5-a73c6f830eb4",
   "metadata": {
    "scrolled": true
   },
   "outputs": [
    {
     "name": "stdout",
     "output_type": "stream",
     "text": [
      "[(2, 20), (8, 20), (2, 15), (3, 10), (1, 19), (1, 24), (9, 5), (8, 30), (9, 28), (6, 22), (3, 19), (10, 3), (11, 11), (1, 10), (4, 13), (4, 2), (4, 16), (4, 5), (12, 21), (2, 20), (8, 10), (7, 9), (3, 25), (9, 22), (3, 27), (10, 12), (12, 26), (9, 1), (11, 1), (11, 22), (8, 19), (2, 5), (6, 29), (3, 25), (11, 23), (5, 11), (1, 7), (12, 6), (10, 15), (6, 20), (10, 4), (11, 23), (3, 29), (5, 20), (12, 6), (8, 12), (5, 18), (10, 25), (3, 23), (11, 16), (12, 2), (2, 25), (10, 18), (6, 15), (5, 28), (4, 5), (4, 2), (11, 1), (10, 4), (3, 29), (11, 28), (9, 6), (6, 7), (9, 20), (9, 7), (10, 15), (9, 4), (6, 1), (5, 6), (12, 27), (4, 30), (1, 26), (1, 2), (6, 15), (1, 26), (3, 29), (11, 4), (11, 28), (3, 5), (10, 4), (5, 12), (2, 10), (8, 23), (1, 3), (4, 24), (10, 9), (11, 3), (4, 4), (10, 28), (11, 17), (11, 6), (5, 29), (11, 30), (5, 3), (11, 10), (10, 19), (4, 17), (9, 17), (8, 5), (1, 4)]\n"
     ]
    }
   ],
   "source": [
    "import random\n",
    "m=[1,3,5,7,8,10,12]\n",
    "a=[]\n",
    "for i in range(100):\n",
    "    mon=random.randint(1,12)\n",
    "    if mon==2:\n",
    "            year=random.randint(2004,2006)\n",
    "            if (year%4==0 and year%100!=0) or year%400==0:\n",
    "                day=random.randint(1,29)\n",
    "            else:\n",
    "                day=random.randint(1,28)\n",
    "    elif mon in m:\n",
    "            day=random.randint(1,31)        \n",
    "    else:\n",
    "            day=random.randint(1,30)\n",
    "    a.append((mon,day))            \n",
    "print(a)\n",
    "        \n",
    "    \n",
    "    "
   ]
  }
 ],
 "metadata": {
  "kernelspec": {
   "display_name": "Python [conda env:base] *",
   "language": "python",
   "name": "conda-base-py"
  },
  "language_info": {
   "codemirror_mode": {
    "name": "ipython",
    "version": 3
   },
   "file_extension": ".py",
   "mimetype": "text/x-python",
   "name": "python",
   "nbconvert_exporter": "python",
   "pygments_lexer": "ipython3",
   "version": "3.12.7"
  }
 },
 "nbformat": 4,
 "nbformat_minor": 5
}
