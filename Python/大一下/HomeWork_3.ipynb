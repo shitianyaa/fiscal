{
 "cells": [
  {
   "cell_type": "code",
   "execution_count": 24,
   "id": "c4f66915-26fc-445d-b4aa-f9f95cf93208",
   "metadata": {},
   "outputs": [
    {
     "name": "stdin",
     "output_type": "stream",
     "text": [
      "请输入一个正整数： 15\n"
     ]
    },
    {
     "name": "stdout",
     "output_type": "stream",
     "text": [
      "30\n"
     ]
    }
   ],
   "source": [
    "n=int(input(\"请输入一个正整数：\"))\n",
    "b=0\n",
    "for a in range(1,n+1):\n",
    "    if a%3==0 and a%5!=0:\n",
    "        b=b+a\n",
    "       ## print(b)\n",
    "    elif a%3!=0 and a%5==0:\n",
    "        b=b+a\n",
    "      ##  print(b)\n",
    "    elif a%3==0 and a%5==0:\n",
    "        b=b-a\n",
    "      ##  print(b)\n",
    "print(b)\n",
    "        \n",
    "        \n",
    "    "
   ]
  },
  {
   "cell_type": "code",
   "execution_count": 36,
   "id": "c7543600-76d3-46d7-8695-c572f7ae6ab6",
   "metadata": {},
   "outputs": [
    {
     "name": "stdout",
     "output_type": "stream",
     "text": [
      "3\n",
      "2\n"
     ]
    }
   ],
   "source": [
    "print(3%5)\n",
    "print(len(\"11\"))"
   ]
  },
  {
   "cell_type": "code",
   "execution_count": 24,
   "id": "02eed546-ed17-43cf-9f9a-5dc194086aa5",
   "metadata": {},
   "outputs": [
    {
     "name": "stdout",
     "output_type": "stream",
     "text": [
      "数字 1 出现了 9 次\n",
      "数字 2 出现了 3 次\n",
      "数字 3 出现了 9 次\n",
      "数字 4 出现了 3 次\n",
      "数字 5 出现了 3 次\n",
      "数字 6 出现了 2 次\n",
      "数字 7 出现了 9 次\n",
      "数字 8 出现了 2 次\n",
      "数字 9 出现了 6 次\n"
     ]
    }
   ],
   "source": [
    "prime_str = \"\"\n",
    "        prime_str += str(a)\n",
    "digit_count = {}\n",
    "for digit in prime_str:\n",
    "    if digit in digit_count:\n",
    "        digit_count[digit] += 1\n",
    "    else:\n",
    "        digit_count[digit] = 1\n",
    "for digit in sorted(digit_count.keys()):\n",
    "    print(f\"数字 {digit} 出现了 {digit_count[digit]} 次\")   "
   ]
  },
  {
   "cell_type": "code",
   "execution_count": 4,
   "id": "94245bd7-48f7-447a-b886-bdb801b34acd",
   "metadata": {},
   "outputs": [
    {
     "ename": "NameError",
     "evalue": "name 'c' is not defined",
     "output_type": "error",
     "traceback": [
      "\u001b[1;31m---------------------------------------------------------------------------\u001b[0m",
      "\u001b[1;31mNameError\u001b[0m                                 Traceback (most recent call last)",
      "Cell \u001b[1;32mIn[4], line 7\u001b[0m\n\u001b[0;32m      5\u001b[0m \u001b[38;5;28;01mfor\u001b[39;00m b \u001b[38;5;129;01min\u001b[39;00m a_str:\n\u001b[0;32m      6\u001b[0m     \u001b[38;5;28;01mif\u001b[39;00m b \u001b[38;5;129;01min\u001b[39;00m a_str:\n\u001b[1;32m----> 7\u001b[0m         b[c]\u001b[38;5;241m+\u001b[39m\u001b[38;5;241m=\u001b[39m\u001b[38;5;241m1\u001b[39m\n\u001b[0;32m      8\u001b[0m     \u001b[38;5;28;01melse\u001b[39;00m:\n\u001b[0;32m      9\u001b[0m         b[c]\u001b[38;5;241m=\u001b[39m\u001b[38;5;241m1\u001b[39m\n",
      "\u001b[1;31mNameError\u001b[0m: name 'c' is not defined"
     ]
    }
   ],
   "source": [
    "a_str=\"\"\n",
    "for a in range(1,101):\n",
    "    a_str+=str(a)\n",
    "b={}\n",
    "for b in a_str:\n",
    "    if b in a_str:\n",
    "        b[c]+=1\n",
    "    else:\n",
    "        b[c]=1\n",
    "for c in sorted(b.keys()):\n",
    "    print(f\"数字{c}出现了b[c]次\")\n",
    "    "
   ]
  }
 ],
 "metadata": {
  "kernelspec": {
   "display_name": "Python [conda env:base] *",
   "language": "python",
   "name": "conda-base-py"
  },
  "language_info": {
   "codemirror_mode": {
    "name": "ipython",
    "version": 3
   },
   "file_extension": ".py",
   "mimetype": "text/x-python",
   "name": "python",
   "nbconvert_exporter": "python",
   "pygments_lexer": "ipython3",
   "version": "3.12.7"
  }
 },
 "nbformat": 4,
 "nbformat_minor": 5
}
