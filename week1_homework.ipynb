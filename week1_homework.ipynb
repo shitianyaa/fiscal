{
 "cells": [
  {
   "cell_type": "markdown",
   "id": "cc3dd12d",
   "metadata": {},
   "source": [
    "<table border=0 width=\"100%\"><tr><td><p align=\"left\"><img src=\"..\\img\\logo.png\" align=\"left\" width=300></p></td><td><font size=3><B>第一周 课后作业</B></font></td></tr></table>"
   ]
  },
  {
   "cell_type": "markdown",
   "id": "0c6e19df",
   "metadata": {},
   "source": [
    "# 第一周作业\n",
    "**利用今天课程的数据(national data)和AI工具，提出有趣的问题，并做探索分析**\n",
    "- 提出问题\n",
    "- 应用AI工具做数据分析\n",
    "- 撰写报告（pdf）（包括题目、摘要、正文、附录-你选择的AI工具，以及应用这个工具的工作过程介绍与截图）\n",
    "\n",
    "提交作业：\n",
    "- 在线提交：http://swufe.fanya.chaoxing.com/portal\n",
    "- 截止日期：2025年9月17日晚上8点\n",
    "- 提交PDF报告，命名为“你的学号+姓名.pdf”\n",
    "\n",
    "**下周我们邀请同学分享其完成作业的过程**"
   ]
  }
 ],
 "metadata": {
  "kernelspec": {
   "display_name": "Python [conda env:base] *",
   "language": "python",
   "name": "conda-base-py"
  },
  "language_info": {
   "codemirror_mode": {
    "name": "ipython",
    "version": 3
   },
   "file_extension": ".py",
   "mimetype": "text/x-python",
   "name": "python",
   "nbconvert_exporter": "python",
   "pygments_lexer": "ipython3",
   "version": "3.12.7"
  },
  "toc": {
   "base_numbering": 1,
   "nav_menu": {},
   "number_sections": true,
   "sideBar": true,
   "skip_h1_title": false,
   "title_cell": "Table of Contents",
   "title_sidebar": "Contents",
   "toc_cell": false,
   "toc_position": {
    "height": "calc(100% - 180px)",
    "left": "10px",
    "top": "150px",
    "width": "211px"
   },
   "toc_section_display": true,
   "toc_window_display": true
  }
 },
 "nbformat": 4,
 "nbformat_minor": 5
}
